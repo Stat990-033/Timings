{
 "cells": [
  {
   "cell_type": "markdown",
   "metadata": {},
   "source": [
    "# Accessing and extending the timings\n",
    "\n",
    "This repository is in the form of an `R` package that can be installed using"
   ]
  },
  {
   "cell_type": "code",
   "execution_count": 1,
   "metadata": {
    "collapsed": false
   },
   "outputs": [
    {
     "name": "stderr",
     "output_type": "stream",
     "text": [
      "Downloading github repo Stat990-033/Timings@master\n",
      "Installing Timings\n",
      "Skipping 1 packages ahead of CRAN: lme4\n",
      "'/usr/lib/R/bin/R' --no-site-file --no-environ --no-save --no-restore CMD  \\\n",
      "  INSTALL '/tmp/Rtmp5T7A6q/devtools64a3e2641c8/Stat990-033-Timings-2958748'  \\\n",
      "  --library='/home/bates/R/x86_64-unknown-linux-gnu-library/3.2'  \\\n",
      "  --install-tests \n",
      "\n"
     ]
    }
   ],
   "source": [
    "devtools::install_github(\"Stat990-033/Timings\")"
   ]
  },
  {
   "cell_type": "markdown",
   "metadata": {},
   "source": [
    "The timing data are stored as [JSON](http://json.org) (Javascript Object Notation) files that can be read into `R` using the [jsonlite](http://cran.rstudio.com/web/packages/jsonlite/index.html) package and into [Julia](https://julialang.org) using the \n",
    "[JSON](https://github.org/JuliaLang/JSON.jl) package.  In `R` the `.json` files are in the directory"
   ]
  },
  {
   "cell_type": "code",
   "execution_count": 2,
   "metadata": {
    "collapsed": false
   },
   "outputs": [
    {
     "data": {
      "text/html": [
       "<ol class=list-inline>\n",
       "\t<li>'Alfalfa.json'</li>\n",
       "\t<li>'Assay.json'</li>\n",
       "\t<li>'BS10.json'</li>\n",
       "\t<li>'cake.json'</li>\n",
       "\t<li>'Dyestuff2.json'</li>\n",
       "\t<li>'Dyestuff.json'</li>\n",
       "\t<li>'ergoStool.json'</li>\n",
       "\t<li>'Gasoline.json'</li>\n",
       "\t<li>'GB12.json'</li>\n",
       "\t<li>'InstEval.json'</li>\n",
       "\t<li>'KB07.json'</li>\n",
       "\t<li>'lme4_test11a.json'</li>\n",
       "\t<li>'mlmRev.json'</li>\n",
       "\t<li>'mm0.json'</li>\n",
       "\t<li>'Pastes.json'</li>\n",
       "\t<li>'Penicillin.json'</li>\n",
       "\t<li>'Poems.json'</li>\n",
       "\t<li>'SASmixed.json'</li>\n",
       "\t<li>'sleepstudy.json'</li>\n",
       "</ol>\n"
      ],
      "text/latex": [
       "\\begin{enumerate*}\n",
       "\\item 'Alfalfa.json'\n",
       "\\item 'Assay.json'\n",
       "\\item 'BS10.json'\n",
       "\\item 'cake.json'\n",
       "\\item 'Dyestuff2.json'\n",
       "\\item 'Dyestuff.json'\n",
       "\\item 'ergoStool.json'\n",
       "\\item 'Gasoline.json'\n",
       "\\item 'GB12.json'\n",
       "\\item 'InstEval.json'\n",
       "\\item 'KB07.json'\n",
       "\\item 'lme4_test11a.json'\n",
       "\\item 'mlmRev.json'\n",
       "\\item 'mm0.json'\n",
       "\\item 'Pastes.json'\n",
       "\\item 'Penicillin.json'\n",
       "\\item 'Poems.json'\n",
       "\\item 'SASmixed.json'\n",
       "\\item 'sleepstudy.json'\n",
       "\\end{enumerate*}\n"
      ],
      "text/markdown": [
       "1. 'Alfalfa.json'\n",
       "2. 'Assay.json'\n",
       "3. 'BS10.json'\n",
       "4. 'cake.json'\n",
       "5. 'Dyestuff2.json'\n",
       "6. 'Dyestuff.json'\n",
       "7. 'ergoStool.json'\n",
       "8. 'Gasoline.json'\n",
       "9. 'GB12.json'\n",
       "10. 'InstEval.json'\n",
       "11. 'KB07.json'\n",
       "12. 'lme4_test11a.json'\n",
       "13. 'mlmRev.json'\n",
       "14. 'mm0.json'\n",
       "15. 'Pastes.json'\n",
       "16. 'Penicillin.json'\n",
       "17. 'Poems.json'\n",
       "18. 'SASmixed.json'\n",
       "19. 'sleepstudy.json'\n",
       "\n",
       "\n"
      ],
      "text/plain": [
       " [1] \"Alfalfa.json\"      \"Assay.json\"        \"BS10.json\"        \n",
       " [4] \"cake.json\"         \"Dyestuff2.json\"    \"Dyestuff.json\"    \n",
       " [7] \"ergoStool.json\"    \"Gasoline.json\"     \"GB12.json\"        \n",
       "[10] \"InstEval.json\"     \"KB07.json\"         \"lme4_test11a.json\"\n",
       "[13] \"mlmRev.json\"       \"mm0.json\"          \"Pastes.json\"      \n",
       "[16] \"Penicillin.json\"   \"Poems.json\"        \"SASmixed.json\"    \n",
       "[19] \"sleepstudy.json\"  "
      ]
     },
     "execution_count": 2,
     "metadata": {},
     "output_type": "execute_result"
    }
   ],
   "source": [
    "(flist <- list.files(system.file(\"JSON\",package=\"Timings\")))"
   ]
  },
  {
   "cell_type": "markdown",
   "metadata": {},
   "source": [
    "The `extractor` function in this package returns a summary of the model fits as list of data frames.  The rows of the data frames are sorted according to the minimum deviance achieved by the optimizer (rounded to 2 digits - we assume that differences less than 0.01 in the deviance are negligible) and by elapsed time within deviance value."
   ]
  },
  {
   "cell_type": "code",
   "execution_count": 5,
   "metadata": {
    "collapsed": false
   },
   "outputs": [
    {
     "data": {
      "text/html": [
       "<table>\n",
       "<thead><tr><th></th><th scope=col>dev</th><th scope=col>optimizer</th><th scope=col>func</th><th scope=col>time</th><th scope=col>feval</th></tr></thead>\n",
       "<tbody>\n",
       "\t<tr><th scope=row>20</th><td>1030.96</td><td>LD_LBFGS</td><td>lmm</td><td>0.4845596</td><td>25</td></tr>\n",
       "\t<tr><th scope=row>26</th><td>1030.96</td><td>LD_VAR2</td><td>lmm</td><td>0.5328337</td><td>28</td></tr>\n",
       "\t<tr><th scope=row>25</th><td>1030.96</td><td>LD_VAR1</td><td>lmm</td><td>0.5457067</td><td>28</td></tr>\n",
       "\t<tr><th scope=row>24</th><td>1030.96</td><td>LD_TNEWTON_PRECOND_RESTART</td><td>lmm</td><td>0.8387316</td><td>44</td></tr>\n",
       "\t<tr><th scope=row>23</th><td>1030.96</td><td>LD_TNEWTON_RESTART</td><td>lmm</td><td>0.8753519</td><td>46</td></tr>\n",
       "\t<tr><th scope=row>22</th><td>1030.96</td><td>LD_TNEWTON_PRECOND</td><td>lmm</td><td>0.9104886</td><td>48</td></tr>\n",
       "\t<tr><th scope=row>21</th><td>1030.96</td><td>LD_TNEWTON</td><td>lmm</td><td>1.426317</td><td>76</td></tr>\n",
       "\t<tr><th scope=row>19</th><td>1030.96</td><td>LD_SLSQP</td><td>lmm</td><td>1.878597</td><td>181</td></tr>\n",
       "\t<tr><th scope=row>12</th><td>1030.96</td><td>LN_BOBYQA</td><td>lmm</td><td>1.917175</td><td>289</td></tr>\n",
       "\t<tr><th scope=row>17</th><td>1030.96</td><td>LD_MMA</td><td>lmm</td><td>2.200292</td><td>56</td></tr>\n",
       "\t<tr><th scope=row>13</th><td>1030.96</td><td>LN_COBYLA</td><td>lmm</td><td>2.21036</td><td>2128</td></tr>\n",
       "\t<tr><th scope=row>18</th><td>1030.96</td><td>LD_CCSAQ</td><td>lmm</td><td>2.272684</td><td>70</td></tr>\n",
       "\t<tr><th scope=row>16</th><td>1030.96</td><td>LN_SBPLX</td><td>lmm</td><td>3.264646</td><td>2031</td></tr>\n",
       "\t<tr><th scope=row>3</th><td>1030.96</td><td>NLOPT_LN_BOBYQA</td><td>lmer</td><td>6.422</td><td>61</td></tr>\n",
       "\t<tr><th scope=row>7</th><td>1030.96</td><td>NLOPT_LN_SBPLX</td><td>lmer</td><td>6.753</td><td>1501</td></tr>\n",
       "\t<tr><th scope=row>4</th><td>1030.96</td><td>NLOPT_LN_COBYLA</td><td>lmer</td><td>8.373</td><td>1655</td></tr>\n",
       "\t<tr><th scope=row>10</th><td>1030.96</td><td>optimx:spg</td><td>lmer</td><td>10.313</td><td>NA</td></tr>\n",
       "\t<tr><th scope=row>8</th><td>1030.96</td><td>optimx:L-BFGS-B</td><td>lmer</td><td>13.163</td><td>46</td></tr>\n",
       "\t<tr><th scope=row>9</th><td>1030.96</td><td>optimx:nlminb</td><td>lmer</td><td>14.732</td><td>1859</td></tr>\n",
       "\t<tr><th scope=row>15</th><td>1031.93</td><td>LN_NELDERMEAD</td><td>lmm</td><td>30.43188</td><td>28024</td></tr>\n",
       "\t<tr><th scope=row>6</th><td>1031.93</td><td>NLOPT_LN_NELDERMEAD</td><td>lmer</td><td>67.065</td><td>20519</td></tr>\n",
       "\t<tr><th scope=row>14</th><td>1049.15</td><td>LN_PRAXIS</td><td>lmm</td><td>0.5309243</td><td>519</td></tr>\n",
       "\t<tr><th scope=row>5</th><td>1049.15</td><td>NLOPT_LN_PRAXIS</td><td>lmer</td><td>3.978</td><td>441</td></tr>\n",
       "\t<tr><th scope=row>1</th><td>1049.18</td><td>bobyqa</td><td>lmer</td><td>10.267</td><td>2628</td></tr>\n",
       "\t<tr><th scope=row>11</th><td>1049.18</td><td>optimx:bobyqa</td><td>lmer</td><td>15.451</td><td>NA</td></tr>\n",
       "\t<tr><th scope=row>2</th><td>1102.34</td><td>Nelder_Mead</td><td>lmer</td><td>141.03</td><td>35690</td></tr>\n",
       "</tbody>\n",
       "</table>\n"
      ],
      "text/latex": [
       "\\begin{tabular}{r|lllll}\n",
       "  & dev & optimizer & func & time & feval\\\\\n",
       "\\hline\n",
       "\t20 & 1030.96 & LD_LBFGS & lmm & 0.4845596 & 25\\\\\n",
       "\t26 & 1030.96 & LD_VAR2 & lmm & 0.5328337 & 28\\\\\n",
       "\t25 & 1030.96 & LD_VAR1 & lmm & 0.5457067 & 28\\\\\n",
       "\t24 & 1030.96 & LD_TNEWTON_PRECOND_RESTART & lmm & 0.8387316 & 44\\\\\n",
       "\t23 & 1030.96 & LD_TNEWTON_RESTART & lmm & 0.8753519 & 46\\\\\n",
       "\t22 & 1030.96 & LD_TNEWTON_PRECOND & lmm & 0.9104886 & 48\\\\\n",
       "\t21 & 1030.96 & LD_TNEWTON & lmm & 1.426317 & 76\\\\\n",
       "\t19 & 1030.96 & LD_SLSQP & lmm & 1.878597 & 181\\\\\n",
       "\t12 & 1030.96 & LN_BOBYQA & lmm & 1.917175 & 289\\\\\n",
       "\t17 & 1030.96 & LD_MMA & lmm & 2.200292 & 56\\\\\n",
       "\t13 & 1030.96 & LN_COBYLA & lmm & 2.21036 & 2128\\\\\n",
       "\t18 & 1030.96 & LD_CCSAQ & lmm & 2.272684 & 70\\\\\n",
       "\t16 & 1030.96 & LN_SBPLX & lmm & 3.264646 & 2031\\\\\n",
       "\t3 & 1030.96 & NLOPT_LN_BOBYQA & lmer & 6.422 & 61\\\\\n",
       "\t7 & 1030.96 & NLOPT_LN_SBPLX & lmer & 6.753 & 1501\\\\\n",
       "\t4 & 1030.96 & NLOPT_LN_COBYLA & lmer & 8.373 & 1655\\\\\n",
       "\t10 & 1030.96 & optimx:spg & lmer & 10.313 & NA\\\\\n",
       "\t8 & 1030.96 & optimx:L-BFGS-B & lmer & 13.163 & 46\\\\\n",
       "\t9 & 1030.96 & optimx:nlminb & lmer & 14.732 & 1859\\\\\n",
       "\t15 & 1031.93 & LN_NELDERMEAD & lmm & 30.43188 & 28024\\\\\n",
       "\t6 & 1031.93 & NLOPT_LN_NELDERMEAD & lmer & 67.065 & 20519\\\\\n",
       "\t14 & 1049.15 & LN_PRAXIS & lmm & 0.5309243 & 519\\\\\n",
       "\t5 & 1049.15 & NLOPT_LN_PRAXIS & lmer & 3.978 & 441\\\\\n",
       "\t1 & 1049.18 & bobyqa & lmer & 10.267 & 2628\\\\\n",
       "\t11 & 1049.18 & optimx:bobyqa & lmer & 15.451 & NA\\\\\n",
       "\t2 & 1102.34 & Nelder_Mead & lmer & 141.03 & 35690\\\\\n",
       "\\end{tabular}\n"
      ],
      "text/plain": [
       "       dev                  optimizer func        time feval\n",
       "20 1030.96                   LD_LBFGS  lmm   0.4845596    25\n",
       "26 1030.96                    LD_VAR2  lmm   0.5328337    28\n",
       "25 1030.96                    LD_VAR1  lmm   0.5457067    28\n",
       "24 1030.96 LD_TNEWTON_PRECOND_RESTART  lmm   0.8387316    44\n",
       "23 1030.96         LD_TNEWTON_RESTART  lmm   0.8753519    46\n",
       "22 1030.96         LD_TNEWTON_PRECOND  lmm   0.9104886    48\n",
       "21 1030.96                 LD_TNEWTON  lmm   1.4263175    76\n",
       "19 1030.96                   LD_SLSQP  lmm   1.8785970   181\n",
       "12 1030.96                  LN_BOBYQA  lmm   1.9171754   289\n",
       "17 1030.96                     LD_MMA  lmm   2.2002923    56\n",
       "13 1030.96                  LN_COBYLA  lmm   2.2103599  2128\n",
       "18 1030.96                   LD_CCSAQ  lmm   2.2726837    70\n",
       "16 1030.96                   LN_SBPLX  lmm   3.2646460  2031\n",
       "3  1030.96            NLOPT_LN_BOBYQA lmer   6.4220000    61\n",
       "7  1030.96             NLOPT_LN_SBPLX lmer   6.7530000  1501\n",
       "4  1030.96            NLOPT_LN_COBYLA lmer   8.3730000  1655\n",
       "10 1030.96                 optimx:spg lmer  10.3130000    NA\n",
       "8  1030.96            optimx:L-BFGS-B lmer  13.1630000    46\n",
       "9  1030.96              optimx:nlminb lmer  14.7320000  1859\n",
       "15 1031.93              LN_NELDERMEAD  lmm  30.4318803 28024\n",
       "6  1031.93        NLOPT_LN_NELDERMEAD lmer  67.0650000 20519\n",
       "14 1049.15                  LN_PRAXIS  lmm   0.5309243   519\n",
       "5  1049.15            NLOPT_LN_PRAXIS lmer   3.9780000   441\n",
       "1  1049.18                     bobyqa lmer  10.2670000  2628\n",
       "11 1049.18              optimx:bobyqa lmer  15.4510000    NA\n",
       "2  1102.34                Nelder_Mead lmer 141.0300000 35690"
      ]
     },
     "execution_count": 5,
     "metadata": {},
     "output_type": "execute_result"
    }
   ],
   "source": [
    "library(Timings)\n",
    "bs10times <- \n",
    "  extractor(system.file(\"JSON\",\"BS10.json\",package=\"Timings\"))\n",
    "bs10times[[1]]"
   ]
  },
  {
   "cell_type": "markdown",
   "metadata": {},
   "source": [
    "The `func` column indicates whether the _Julia_ function `lmm` or the _R_ function `lmer` was used to fit the model.  The optimizer names for `lmm` are those from the [NLopt](http://github.com/JuliaOpt/NLopt.jl) package.  Names beginning with `LD_` are local, derivative-based optimizers.  Those beginning with `LN_` are local, non-derivative-based optimizers.  For `lmer` the names beginning with `NLOPT_LN_` are the same derivative-free optimizers, accessed through the [nloptr](http://cran.rstudio.com/web/packages/nloptr/index.html) package.  The Julia function uses stricter convergence criteria, which is why it requires more function evaluations than the corresponding optimization in R.  The default optimizers in `lmer`, `bobyqa` and `Nelder_Mead`, failed to converge to the global optimum on this example, as did `LN_PRAXIS` in _Julia_ and in _R_.  The `LN_NELDERMEAD` optimizer also failed to converge to the global optimum but the deviance was closer to the best value achieved by other optimizers.  Interestingly `LN_BOBYQA` converged whereas Powell's original implementation, available as `bobyqa` or `optimx:bobyqa`, did not converge to the global optimum.  The `Nelder_Mead` optimizer was terrible (I can say that because I wrote that implementation).\n",
    "\n",
    "The first model fit to these data is a \"maximal\" model in the sense of Barr et al.(2012) and, like most such models, is overparameterized.  The second is a \"zero correlation parameter\" model as described by Kliegl and, even though it converges to a value on the boundary (some of the variance components are estimated as zero) it is much less problematic."
   ]
  },
  {
   "cell_type": "code",
   "execution_count": 7,
   "metadata": {
    "collapsed": false
   },
   "outputs": [
    {
     "data": {
      "text/html": [
       "<table>\n",
       "<thead><tr><th></th><th scope=col>dev</th><th scope=col>optimizer</th><th scope=col>func</th><th scope=col>time</th><th scope=col>feval</th></tr></thead>\n",
       "<tbody>\n",
       "\t<tr><th scope=row>12</th><td>1080.08</td><td>LN_BOBYQA</td><td>lmm</td><td>0.2159726</td><td>124</td></tr>\n",
       "\t<tr><th scope=row>16</th><td>1080.08</td><td>LN_SBPLX</td><td>lmm</td><td>0.2508537</td><td>340</td></tr>\n",
       "\t<tr><th scope=row>20</th><td>1080.08</td><td>LD_LBFGS</td><td>lmm</td><td>0.2816979</td><td>17</td></tr>\n",
       "\t<tr><th scope=row>25</th><td>1080.08</td><td>LD_VAR1</td><td>lmm</td><td>0.2966682</td><td>18</td></tr>\n",
       "\t<tr><th scope=row>26</th><td>1080.08</td><td>LD_VAR2</td><td>lmm</td><td>0.3037488</td><td>18</td></tr>\n",
       "\t<tr><th scope=row>17</th><td>1080.08</td><td>LD_MMA</td><td>lmm</td><td>0.3877286</td><td>23</td></tr>\n",
       "\t<tr><th scope=row>14</th><td>1080.08</td><td>LN_PRAXIS</td><td>lmm</td><td>0.5777748</td><td>785</td></tr>\n",
       "\t<tr><th scope=row>3</th><td>1080.08</td><td>NLOPT_LN_BOBYQA</td><td>lmer</td><td>0.784</td><td>110</td></tr>\n",
       "\t<tr><th scope=row>13</th><td>1080.08</td><td>LN_COBYLA</td><td>lmm</td><td>0.8825582</td><td>1205</td></tr>\n",
       "\t<tr><th scope=row>1</th><td>1080.08</td><td>bobyqa</td><td>lmer</td><td>1.146</td><td>230</td></tr>\n",
       "\t<tr><th scope=row>15</th><td>1080.08</td><td>LN_NELDERMEAD</td><td>lmm</td><td>1.183185</td><td>1625</td></tr>\n",
       "\t<tr><th scope=row>7</th><td>1080.08</td><td>NLOPT_LN_SBPLX</td><td>lmer</td><td>1.35</td><td>302</td></tr>\n",
       "\t<tr><th scope=row>4</th><td>1080.08</td><td>NLOPT_LN_COBYLA</td><td>lmer</td><td>1.395</td><td>324</td></tr>\n",
       "\t<tr><th scope=row>5</th><td>1080.08</td><td>NLOPT_LN_PRAXIS</td><td>lmer</td><td>2.189</td><td>598</td></tr>\n",
       "\t<tr><th scope=row>11</th><td>1080.08</td><td>optimx:bobyqa</td><td>lmer</td><td>2.223</td><td>NA</td></tr>\n",
       "\t<tr><th scope=row>10</th><td>1080.08</td><td>optimx:spg</td><td>lmer</td><td>2.928</td><td>NA</td></tr>\n",
       "\t<tr><th scope=row>6</th><td>1080.08</td><td>NLOPT_LN_NELDERMEAD</td><td>lmer</td><td>3.368</td><td>1000</td></tr>\n",
       "\t<tr><th scope=row>8</th><td>1080.08</td><td>optimx:L-BFGS-B</td><td>lmer</td><td>3.425</td><td>62</td></tr>\n",
       "\t<tr><th scope=row>9</th><td>1080.08</td><td>optimx:nlminb</td><td>lmer</td><td>3.679</td><td>665</td></tr>\n",
       "\t<tr><th scope=row>2</th><td>1080.08</td><td>Nelder_Mead</td><td>lmer</td><td>5.727</td><td>1763</td></tr>\n",
       "\t<tr><th scope=row>24</th><td>1083.43</td><td>LD_TNEWTON_PRECOND_RESTART</td><td>lmm</td><td>0.3908597</td><td>24</td></tr>\n",
       "\t<tr><th scope=row>22</th><td>1083.43</td><td>LD_TNEWTON_PRECOND</td><td>lmm</td><td>0.5122807</td><td>31</td></tr>\n",
       "\t<tr><th scope=row>23</th><td>1099.92</td><td>LD_TNEWTON_RESTART</td><td>lmm</td><td>0.8307608</td><td>52</td></tr>\n",
       "\t<tr><th scope=row>21</th><td>1099.92</td><td>LD_TNEWTON</td><td>lmm</td><td>1.014495</td><td>63</td></tr>\n",
       "\t<tr><th scope=row>19</th><td>1120.08</td><td>LD_SLSQP</td><td>lmm</td><td>0.04013888</td><td>2</td></tr>\n",
       "\t<tr><th scope=row>18</th><td>1120.08</td><td>LD_CCSAQ</td><td>lmm</td><td>0.0742846</td><td>4</td></tr>\n",
       "</tbody>\n",
       "</table>\n"
      ],
      "text/latex": [
       "\\begin{tabular}{r|lllll}\n",
       "  & dev & optimizer & func & time & feval\\\\\n",
       "\\hline\n",
       "\t12 & 1080.08 & LN_BOBYQA & lmm & 0.2159726 & 124\\\\\n",
       "\t16 & 1080.08 & LN_SBPLX & lmm & 0.2508537 & 340\\\\\n",
       "\t20 & 1080.08 & LD_LBFGS & lmm & 0.2816979 & 17\\\\\n",
       "\t25 & 1080.08 & LD_VAR1 & lmm & 0.2966682 & 18\\\\\n",
       "\t26 & 1080.08 & LD_VAR2 & lmm & 0.3037488 & 18\\\\\n",
       "\t17 & 1080.08 & LD_MMA & lmm & 0.3877286 & 23\\\\\n",
       "\t14 & 1080.08 & LN_PRAXIS & lmm & 0.5777748 & 785\\\\\n",
       "\t3 & 1080.08 & NLOPT_LN_BOBYQA & lmer & 0.784 & 110\\\\\n",
       "\t13 & 1080.08 & LN_COBYLA & lmm & 0.8825582 & 1205\\\\\n",
       "\t1 & 1080.08 & bobyqa & lmer & 1.146 & 230\\\\\n",
       "\t15 & 1080.08 & LN_NELDERMEAD & lmm & 1.183185 & 1625\\\\\n",
       "\t7 & 1080.08 & NLOPT_LN_SBPLX & lmer & 1.35 & 302\\\\\n",
       "\t4 & 1080.08 & NLOPT_LN_COBYLA & lmer & 1.395 & 324\\\\\n",
       "\t5 & 1080.08 & NLOPT_LN_PRAXIS & lmer & 2.189 & 598\\\\\n",
       "\t11 & 1080.08 & optimx:bobyqa & lmer & 2.223 & NA\\\\\n",
       "\t10 & 1080.08 & optimx:spg & lmer & 2.928 & NA\\\\\n",
       "\t6 & 1080.08 & NLOPT_LN_NELDERMEAD & lmer & 3.368 & 1000\\\\\n",
       "\t8 & 1080.08 & optimx:L-BFGS-B & lmer & 3.425 & 62\\\\\n",
       "\t9 & 1080.08 & optimx:nlminb & lmer & 3.679 & 665\\\\\n",
       "\t2 & 1080.08 & Nelder_Mead & lmer & 5.727 & 1763\\\\\n",
       "\t24 & 1083.43 & LD_TNEWTON_PRECOND_RESTART & lmm & 0.3908597 & 24\\\\\n",
       "\t22 & 1083.43 & LD_TNEWTON_PRECOND & lmm & 0.5122807 & 31\\\\\n",
       "\t23 & 1099.92 & LD_TNEWTON_RESTART & lmm & 0.8307608 & 52\\\\\n",
       "\t21 & 1099.92 & LD_TNEWTON & lmm & 1.014495 & 63\\\\\n",
       "\t19 & 1120.08 & LD_SLSQP & lmm & 0.04013888 & 2\\\\\n",
       "\t18 & 1120.08 & LD_CCSAQ & lmm & 0.0742846 & 4\\\\\n",
       "\\end{tabular}\n"
      ],
      "text/plain": [
       "       dev                  optimizer func       time feval\n",
       "12 1080.08                  LN_BOBYQA  lmm 0.21597263   124\n",
       "16 1080.08                   LN_SBPLX  lmm 0.25085367   340\n",
       "20 1080.08                   LD_LBFGS  lmm 0.28169786    17\n",
       "25 1080.08                    LD_VAR1  lmm 0.29666824    18\n",
       "26 1080.08                    LD_VAR2  lmm 0.30374883    18\n",
       "17 1080.08                     LD_MMA  lmm 0.38772858    23\n",
       "14 1080.08                  LN_PRAXIS  lmm 0.57777476   785\n",
       "3  1080.08            NLOPT_LN_BOBYQA lmer 0.78400000   110\n",
       "13 1080.08                  LN_COBYLA  lmm 0.88255824  1205\n",
       "1  1080.08                     bobyqa lmer 1.14600000   230\n",
       "15 1080.08              LN_NELDERMEAD  lmm 1.18318506  1625\n",
       "7  1080.08             NLOPT_LN_SBPLX lmer 1.35000000   302\n",
       "4  1080.08            NLOPT_LN_COBYLA lmer 1.39500000   324\n",
       "5  1080.08            NLOPT_LN_PRAXIS lmer 2.18900000   598\n",
       "11 1080.08              optimx:bobyqa lmer 2.22300000    NA\n",
       "10 1080.08                 optimx:spg lmer 2.92800000    NA\n",
       "6  1080.08        NLOPT_LN_NELDERMEAD lmer 3.36800000  1000\n",
       "8  1080.08            optimx:L-BFGS-B lmer 3.42500000    62\n",
       "9  1080.08              optimx:nlminb lmer 3.67900000   665\n",
       "2  1080.08                Nelder_Mead lmer 5.72700000  1763\n",
       "24 1083.43 LD_TNEWTON_PRECOND_RESTART  lmm 0.39085967    24\n",
       "22 1083.43         LD_TNEWTON_PRECOND  lmm 0.51228068    31\n",
       "23 1099.92         LD_TNEWTON_RESTART  lmm 0.83076081    52\n",
       "21 1099.92                 LD_TNEWTON  lmm 1.01449493    63\n",
       "19 1120.08                   LD_SLSQP  lmm 0.04013888     2\n",
       "18 1120.08                   LD_CCSAQ  lmm 0.07428460     4"
      ]
     },
     "execution_count": 7,
     "metadata": {},
     "output_type": "execute_result"
    }
   ],
   "source": [
    "bs10times[[2]]"
   ]
  },
  {
   "cell_type": "markdown",
   "metadata": {},
   "source": [
    "## Extending the timings\n",
    "\n",
    "To assess the timings locally, use `retime` with the name of the file."
   ]
  },
  {
   "cell_type": "code",
   "execution_count": 8,
   "metadata": {
    "collapsed": false
   },
   "outputs": [
    {
     "data": {
      "text/html": [
       "<table>\n",
       "<thead><tr><th></th><th scope=col>dev</th><th scope=col>optimizer</th><th scope=col>func</th><th scope=col>time</th><th scope=col>feval</th></tr></thead>\n",
       "<tbody>\n",
       "\t<tr><th scope=row>12</th><td>237721.8</td><td>LN_BOBYQA</td><td>lmm</td><td>4.877744</td><td>115</td></tr>\n",
       "\t<tr><th scope=row>14</th><td>237721.8</td><td>LN_PRAXIS</td><td>lmm</td><td>5.469709</td><td>132</td></tr>\n",
       "\t<tr><th scope=row>16</th><td>237721.8</td><td>LN_SBPLX</td><td>lmm</td><td>7.514635</td><td>194</td></tr>\n",
       "\t<tr><th scope=row>15</th><td>237721.8</td><td>LN_NELDERMEAD</td><td>lmm</td><td>8.367049</td><td>216</td></tr>\n",
       "\t<tr><th scope=row>1</th><td>237721.8</td><td>bobyqa</td><td>lmer</td><td>12.611</td><td>59</td></tr>\n",
       "\t<tr><th scope=row>3</th><td>237721.8</td><td>NLOPT_LN_BOBYQA</td><td>lmer</td><td>17.607</td><td>79</td></tr>\n",
       "\t<tr><th scope=row>5</th><td>237721.8</td><td>NLOPT_LN_PRAXIS</td><td>lmer</td><td>18.767</td><td>87</td></tr>\n",
       "\t<tr><th scope=row>6</th><td>237721.8</td><td>NLOPT_LN_NELDERMEAD</td><td>lmer</td><td>22.265</td><td>116</td></tr>\n",
       "\t<tr><th scope=row>2</th><td>237721.8</td><td>Nelder_Mead</td><td>lmer</td><td>23.638</td><td>123</td></tr>\n",
       "\t<tr><th scope=row>8</th><td>237721.8</td><td>optimx:L-BFGS-B</td><td>lmer</td><td>26.95</td><td>26</td></tr>\n",
       "\t<tr><th scope=row>11</th><td>237721.8</td><td>optimx:bobyqa</td><td>lmer</td><td>27.519</td><td>NA</td></tr>\n",
       "\t<tr><th scope=row>7</th><td>237721.8</td><td>NLOPT_LN_SBPLX</td><td>lmer</td><td>30.019</td><td>157</td></tr>\n",
       "\t<tr><th scope=row>4</th><td>237721.8</td><td>NLOPT_LN_COBYLA</td><td>lmer</td><td>35.734</td><td>200</td></tr>\n",
       "\t<tr><th scope=row>10</th><td>237721.8</td><td>optimx:spg</td><td>lmer</td><td>36.777</td><td>NA</td></tr>\n",
       "\t<tr><th scope=row>9</th><td>237721.8</td><td>optimx:nlminb</td><td>lmer</td><td>38.018</td><td>129</td></tr>\n",
       "\t<tr><th scope=row>13</th><td>237721.8</td><td>LN_COBYLA</td><td>lmm</td><td>60.48535</td><td>1623</td></tr>\n",
       "</tbody>\n",
       "</table>\n"
      ],
      "text/latex": [
       "\\begin{tabular}{r|lllll}\n",
       "  & dev & optimizer & func & time & feval\\\\\n",
       "\\hline\n",
       "\t12 & 237721.8 & LN_BOBYQA & lmm & 4.877744 & 115\\\\\n",
       "\t14 & 237721.8 & LN_PRAXIS & lmm & 5.469709 & 132\\\\\n",
       "\t16 & 237721.8 & LN_SBPLX & lmm & 7.514635 & 194\\\\\n",
       "\t15 & 237721.8 & LN_NELDERMEAD & lmm & 8.367049 & 216\\\\\n",
       "\t1 & 237721.8 & bobyqa & lmer & 12.611 & 59\\\\\n",
       "\t3 & 237721.8 & NLOPT_LN_BOBYQA & lmer & 17.607 & 79\\\\\n",
       "\t5 & 237721.8 & NLOPT_LN_PRAXIS & lmer & 18.767 & 87\\\\\n",
       "\t6 & 237721.8 & NLOPT_LN_NELDERMEAD & lmer & 22.265 & 116\\\\\n",
       "\t2 & 237721.8 & Nelder_Mead & lmer & 23.638 & 123\\\\\n",
       "\t8 & 237721.8 & optimx:L-BFGS-B & lmer & 26.95 & 26\\\\\n",
       "\t11 & 237721.8 & optimx:bobyqa & lmer & 27.519 & NA\\\\\n",
       "\t7 & 237721.8 & NLOPT_LN_SBPLX & lmer & 30.019 & 157\\\\\n",
       "\t4 & 237721.8 & NLOPT_LN_COBYLA & lmer & 35.734 & 200\\\\\n",
       "\t10 & 237721.8 & optimx:spg & lmer & 36.777 & NA\\\\\n",
       "\t9 & 237721.8 & optimx:nlminb & lmer & 38.018 & 129\\\\\n",
       "\t13 & 237721.8 & LN_COBYLA & lmm & 60.48535 & 1623\\\\\n",
       "\\end{tabular}\n"
      ],
      "text/plain": [
       "        dev           optimizer func      time feval\n",
       "12 237721.8           LN_BOBYQA  lmm  4.877744   115\n",
       "14 237721.8           LN_PRAXIS  lmm  5.469709   132\n",
       "16 237721.8            LN_SBPLX  lmm  7.514635   194\n",
       "15 237721.8       LN_NELDERMEAD  lmm  8.367049   216\n",
       "1  237721.8              bobyqa lmer 12.611000    59\n",
       "3  237721.8     NLOPT_LN_BOBYQA lmer 17.607000    79\n",
       "5  237721.8     NLOPT_LN_PRAXIS lmer 18.767000    87\n",
       "6  237721.8 NLOPT_LN_NELDERMEAD lmer 22.265000   116\n",
       "2  237721.8         Nelder_Mead lmer 23.638000   123\n",
       "8  237721.8     optimx:L-BFGS-B lmer 26.950000    26\n",
       "11 237721.8       optimx:bobyqa lmer 27.519000    NA\n",
       "7  237721.8      NLOPT_LN_SBPLX lmer 30.019000   157\n",
       "4  237721.8     NLOPT_LN_COBYLA lmer 35.734000   200\n",
       "10 237721.8          optimx:spg lmer 36.777000    NA\n",
       "9  237721.8       optimx:nlminb lmer 38.018000   129\n",
       "13 237721.8           LN_COBYLA  lmm 60.485347  1623"
      ]
     },
     "execution_count": 8,
     "metadata": {},
     "output_type": "execute_result"
    }
   ],
   "source": [
    "extractor(system.file(\"JSON\",\"InstEval.json\",package=\"Timings\"))[[2]]"
   ]
  },
  {
   "cell_type": "code",
   "execution_count": 9,
   "metadata": {
    "collapsed": false
   },
   "outputs": [
    {
     "name": "stderr",
     "output_type": "stream",
     "text": [
      "Warning message:\n",
      "In checkConv(attr(opt, \"derivs\"), opt$par, ctrl = control$checkConv, : Model failed to converge with max|grad| = 0.00548453 (tol = 0.002, component 1)Warning message:\n",
      "In checkConv(attr(opt, \"derivs\"), opt$par, ctrl = control$checkConv, : Model failed to converge with max|grad| = 0.0483469 (tol = 0.002, component 1)Warning message:\n",
      "In checkConv(attr(opt, \"derivs\"), opt$par, ctrl = control$checkConv, : Model failed to converge with max|grad| = 0.00359818 (tol = 0.002, component 1)"
     ]
    },
    {
     "data": {
      "text/html": [
       "<ol>\n",
       "\t<li><table>\n",
       "<thead><tr><th></th><th scope=col>dev</th><th scope=col>optimizer</th><th scope=col>func</th><th scope=col>time</th><th scope=col>feval</th></tr></thead>\n",
       "<tbody>\n",
       "\t<tr><th scope=row>13</th><td>237585.5</td><td>LN_COBYLA</td><td>lmm</td><td>3.561462</td><td>56</td></tr>\n",
       "\t<tr><th scope=row>14</th><td>237585.5</td><td>LN_PRAXIS</td><td>lmm</td><td>3.966381</td><td>80</td></tr>\n",
       "\t<tr><th scope=row>15</th><td>237585.5</td><td>LN_NELDERMEAD</td><td>lmm</td><td>4.364728</td><td>89</td></tr>\n",
       "\t<tr><th scope=row>12</th><td>237585.5</td><td>LN_BOBYQA</td><td>lmm</td><td>4.459778</td><td>47</td></tr>\n",
       "\t<tr><th scope=row>16</th><td>237585.5</td><td>LN_SBPLX</td><td>lmm</td><td>6.35131</td><td>136</td></tr>\n",
       "\t<tr><th scope=row>1</th><td>237585.5</td><td>bobyqa</td><td>lmer</td><td>10.533</td><td>25</td></tr>\n",
       "\t<tr><th scope=row>3</th><td>237585.5</td><td>NLOPT_LN_BOBYQA</td><td>lmer</td><td>12.689</td><td>33</td></tr>\n",
       "\t<tr><th scope=row>4</th><td>237585.5</td><td>NLOPT_LN_COBYLA</td><td>lmer</td><td>13.604</td><td>37</td></tr>\n",
       "\t<tr><th scope=row>2</th><td>237585.5</td><td>Nelder_Mead</td><td>lmer</td><td>22.831</td><td>77</td></tr>\n",
       "\t<tr><th scope=row>11</th><td>237585.5</td><td>optimx:bobyqa</td><td>lmer</td><td>23.015</td><td>NA</td></tr>\n",
       "\t<tr><th scope=row>6</th><td>237585.5</td><td>NLOPT_LN_NELDERMEAD</td><td>lmer</td><td>24.488</td><td>67</td></tr>\n",
       "\t<tr><th scope=row>9</th><td>237585.5</td><td>optimx:nlminb</td><td>lmer</td><td>25.164</td><td>43</td></tr>\n",
       "\t<tr><th scope=row>5</th><td>237585.5</td><td>NLOPT_LN_PRAXIS</td><td>lmer</td><td>25.696</td><td>79</td></tr>\n",
       "\t<tr><th scope=row>8</th><td>237585.5</td><td>optimx:L-BFGS-B</td><td>lmer</td><td>26.466</td><td>18</td></tr>\n",
       "\t<tr><th scope=row>10</th><td>237585.5</td><td>optimx:spg</td><td>lmer</td><td>31.749</td><td>NA</td></tr>\n",
       "\t<tr><th scope=row>7</th><td>237585.5</td><td>NLOPT_LN_SBPLX</td><td>lmer</td><td>36.545</td><td>114</td></tr>\n",
       "</tbody>\n",
       "</table>\n",
       "</li>\n",
       "\t<li><table>\n",
       "<thead><tr><th></th><th scope=col>dev</th><th scope=col>optimizer</th><th scope=col>func</th><th scope=col>time</th><th scope=col>feval</th></tr></thead>\n",
       "<tbody>\n",
       "\t<tr><th scope=row>12</th><td>237721.8</td><td>LN_BOBYQA</td><td>lmm</td><td>4.877744</td><td>115</td></tr>\n",
       "\t<tr><th scope=row>14</th><td>237721.8</td><td>LN_PRAXIS</td><td>lmm</td><td>5.469709</td><td>132</td></tr>\n",
       "\t<tr><th scope=row>16</th><td>237721.8</td><td>LN_SBPLX</td><td>lmm</td><td>7.514635</td><td>194</td></tr>\n",
       "\t<tr><th scope=row>15</th><td>237721.8</td><td>LN_NELDERMEAD</td><td>lmm</td><td>8.367049</td><td>216</td></tr>\n",
       "\t<tr><th scope=row>1</th><td>237721.8</td><td>bobyqa</td><td>lmer</td><td>20.201</td><td>61</td></tr>\n",
       "\t<tr><th scope=row>5</th><td>237721.8</td><td>NLOPT_LN_PRAXIS</td><td>lmer</td><td>22.262</td><td>84</td></tr>\n",
       "\t<tr><th scope=row>3</th><td>237721.8</td><td>NLOPT_LN_BOBYQA</td><td>lmer</td><td>22.577</td><td>79</td></tr>\n",
       "\t<tr><th scope=row>6</th><td>237721.8</td><td>NLOPT_LN_NELDERMEAD</td><td>lmer</td><td>28.244</td><td>116</td></tr>\n",
       "\t<tr><th scope=row>2</th><td>237721.8</td><td>Nelder_Mead</td><td>lmer</td><td>29.552</td><td>123</td></tr>\n",
       "\t<tr><th scope=row>7</th><td>237721.8</td><td>NLOPT_LN_SBPLX</td><td>lmer</td><td>37.536</td><td>157</td></tr>\n",
       "\t<tr><th scope=row>8</th><td>237721.8</td><td>optimx:L-BFGS-B</td><td>lmer</td><td>38.784</td><td>26</td></tr>\n",
       "\t<tr><th scope=row>11</th><td>237721.8</td><td>optimx:bobyqa</td><td>lmer</td><td>39.579</td><td>NA</td></tr>\n",
       "\t<tr><th scope=row>4</th><td>237721.8</td><td>NLOPT_LN_COBYLA</td><td>lmer</td><td>42.403</td><td>196</td></tr>\n",
       "\t<tr><th scope=row>10</th><td>237721.8</td><td>optimx:spg</td><td>lmer</td><td>45.622</td><td>NA</td></tr>\n",
       "\t<tr><th scope=row>9</th><td>237721.8</td><td>optimx:nlminb</td><td>lmer</td><td>51.183</td><td>129</td></tr>\n",
       "\t<tr><th scope=row>13</th><td>237721.8</td><td>LN_COBYLA</td><td>lmm</td><td>60.48535</td><td>1623</td></tr>\n",
       "</tbody>\n",
       "</table>\n",
       "</li>\n",
       "</ol>\n"
      ],
      "text/latex": [
       "\\begin{enumerate}\n",
       "\\item \\begin{tabular}{r|lllll}\n",
       "  & dev & optimizer & func & time & feval\\\\\n",
       "\\hline\n",
       "\t13 & 237585.5 & LN_COBYLA & lmm & 3.561462 & 56\\\\\n",
       "\t14 & 237585.5 & LN_PRAXIS & lmm & 3.966381 & 80\\\\\n",
       "\t15 & 237585.5 & LN_NELDERMEAD & lmm & 4.364728 & 89\\\\\n",
       "\t12 & 237585.5 & LN_BOBYQA & lmm & 4.459778 & 47\\\\\n",
       "\t16 & 237585.5 & LN_SBPLX & lmm & 6.35131 & 136\\\\\n",
       "\t1 & 237585.5 & bobyqa & lmer & 10.533 & 25\\\\\n",
       "\t3 & 237585.5 & NLOPT_LN_BOBYQA & lmer & 12.689 & 33\\\\\n",
       "\t4 & 237585.5 & NLOPT_LN_COBYLA & lmer & 13.604 & 37\\\\\n",
       "\t2 & 237585.5 & Nelder_Mead & lmer & 22.831 & 77\\\\\n",
       "\t11 & 237585.5 & optimx:bobyqa & lmer & 23.015 & NA\\\\\n",
       "\t6 & 237585.5 & NLOPT_LN_NELDERMEAD & lmer & 24.488 & 67\\\\\n",
       "\t9 & 237585.5 & optimx:nlminb & lmer & 25.164 & 43\\\\\n",
       "\t5 & 237585.5 & NLOPT_LN_PRAXIS & lmer & 25.696 & 79\\\\\n",
       "\t8 & 237585.5 & optimx:L-BFGS-B & lmer & 26.466 & 18\\\\\n",
       "\t10 & 237585.5 & optimx:spg & lmer & 31.749 & NA\\\\\n",
       "\t7 & 237585.5 & NLOPT_LN_SBPLX & lmer & 36.545 & 114\\\\\n",
       "\\end{tabular}\n",
       "\n",
       "\\item \\begin{tabular}{r|lllll}\n",
       "  & dev & optimizer & func & time & feval\\\\\n",
       "\\hline\n",
       "\t12 & 237721.8 & LN_BOBYQA & lmm & 4.877744 & 115\\\\\n",
       "\t14 & 237721.8 & LN_PRAXIS & lmm & 5.469709 & 132\\\\\n",
       "\t16 & 237721.8 & LN_SBPLX & lmm & 7.514635 & 194\\\\\n",
       "\t15 & 237721.8 & LN_NELDERMEAD & lmm & 8.367049 & 216\\\\\n",
       "\t1 & 237721.8 & bobyqa & lmer & 20.201 & 61\\\\\n",
       "\t5 & 237721.8 & NLOPT_LN_PRAXIS & lmer & 22.262 & 84\\\\\n",
       "\t3 & 237721.8 & NLOPT_LN_BOBYQA & lmer & 22.577 & 79\\\\\n",
       "\t6 & 237721.8 & NLOPT_LN_NELDERMEAD & lmer & 28.244 & 116\\\\\n",
       "\t2 & 237721.8 & Nelder_Mead & lmer & 29.552 & 123\\\\\n",
       "\t7 & 237721.8 & NLOPT_LN_SBPLX & lmer & 37.536 & 157\\\\\n",
       "\t8 & 237721.8 & optimx:L-BFGS-B & lmer & 38.784 & 26\\\\\n",
       "\t11 & 237721.8 & optimx:bobyqa & lmer & 39.579 & NA\\\\\n",
       "\t4 & 237721.8 & NLOPT_LN_COBYLA & lmer & 42.403 & 196\\\\\n",
       "\t10 & 237721.8 & optimx:spg & lmer & 45.622 & NA\\\\\n",
       "\t9 & 237721.8 & optimx:nlminb & lmer & 51.183 & 129\\\\\n",
       "\t13 & 237721.8 & LN_COBYLA & lmm & 60.48535 & 1623\\\\\n",
       "\\end{tabular}\n",
       "\n",
       "\\end{enumerate}\n"
      ],
      "text/markdown": [
       "1. NULL\n",
       "2. NULL\n",
       "\n",
       "\n"
      ],
      "text/plain": [
       "[[1]]\n",
       "        dev           optimizer func      time feval\n",
       "13 237585.5           LN_COBYLA  lmm  3.561462    56\n",
       "14 237585.5           LN_PRAXIS  lmm  3.966381    80\n",
       "15 237585.5       LN_NELDERMEAD  lmm  4.364728    89\n",
       "12 237585.5           LN_BOBYQA  lmm  4.459778    47\n",
       "16 237585.5            LN_SBPLX  lmm  6.351310   136\n",
       "1  237585.5              bobyqa lmer 10.533000    25\n",
       "3  237585.5     NLOPT_LN_BOBYQA lmer 12.689000    33\n",
       "4  237585.5     NLOPT_LN_COBYLA lmer 13.604000    37\n",
       "2  237585.5         Nelder_Mead lmer 22.831000    77\n",
       "11 237585.5       optimx:bobyqa lmer 23.015000    NA\n",
       "6  237585.5 NLOPT_LN_NELDERMEAD lmer 24.488000    67\n",
       "9  237585.5       optimx:nlminb lmer 25.164000    43\n",
       "5  237585.5     NLOPT_LN_PRAXIS lmer 25.696000    79\n",
       "8  237585.5     optimx:L-BFGS-B lmer 26.466000    18\n",
       "10 237585.5          optimx:spg lmer 31.749000    NA\n",
       "7  237585.5      NLOPT_LN_SBPLX lmer 36.545000   114\n",
       "\n",
       "[[2]]\n",
       "        dev           optimizer func      time feval\n",
       "12 237721.8           LN_BOBYQA  lmm  4.877744   115\n",
       "14 237721.8           LN_PRAXIS  lmm  5.469709   132\n",
       "16 237721.8            LN_SBPLX  lmm  7.514635   194\n",
       "15 237721.8       LN_NELDERMEAD  lmm  8.367049   216\n",
       "1  237721.8              bobyqa lmer 20.201000    61\n",
       "5  237721.8     NLOPT_LN_PRAXIS lmer 22.262000    84\n",
       "3  237721.8     NLOPT_LN_BOBYQA lmer 22.577000    79\n",
       "6  237721.8 NLOPT_LN_NELDERMEAD lmer 28.244000   116\n",
       "2  237721.8         Nelder_Mead lmer 29.552000   123\n",
       "7  237721.8      NLOPT_LN_SBPLX lmer 37.536000   157\n",
       "8  237721.8     optimx:L-BFGS-B lmer 38.784000    26\n",
       "11 237721.8       optimx:bobyqa lmer 39.579000    NA\n",
       "4  237721.8     NLOPT_LN_COBYLA lmer 42.403000   196\n",
       "10 237721.8          optimx:spg lmer 45.622000    NA\n",
       "9  237721.8       optimx:nlminb lmer 51.183000   129\n",
       "13 237721.8           LN_COBYLA  lmm 60.485347  1623\n"
      ]
     },
     "execution_count": 9,
     "metadata": {},
     "output_type": "execute_result"
    }
   ],
   "source": [
    "retime(system.file(\"JSON\",\"InstEval.json\",package=\"Timings\"))\n",
    "extractor(system.file(\"JSON\",\"InstEval.json\",package=\"Timings\"))"
   ]
  },
  {
   "cell_type": "markdown",
   "metadata": {},
   "source": [
    "To run the `lmm` timings install `julia`, version 0.3.8 or later, and add the `MixedModels` package.  The file"
   ]
  },
  {
   "cell_type": "code",
   "execution_count": null,
   "metadata": {
    "collapsed": false
   },
   "outputs": [],
   "source": [
    "file.show(system.file(\"julia\",\"retime.jl\",package=\"Timings\"),\n",
    "b          pager=\"cat\",title=\"\")"
   ]
  },
  {
   "cell_type": "markdown",
   "metadata": {},
   "source": [
    "### Adding another data set/model combination\n",
    "\n",
    "As it is currently set up the `retime` function tries to access the data frame in the `Timings` package itself.  If you want to do timings on data that you can release then create a github pull request to add the data to the `Timings` package.  Also add a JSON file for the data set with the models that are to be fit.  The easiest way to do this is to copy another JSON file to the new name and edit the `dsname` and `formula` entries.  You don't need to take out the existing timings because they will be overwritten when you run `retime`.\n",
    "\n",
    "For proprietary or confidential data either add the data set to the package locally (by cloning a copy of the repository and running `R CMD build` and `R CMD INSTALL` after modifying the repository) or submit a pull request to make the `retime` function more flexible."
   ]
  }
 ],
 "metadata": {
  "kernelspec": {
   "display_name": "R",
   "language": "",
   "name": "ir"
  },
  "language_info": {
   "codemirror_mode": "r",
   "file_extension": ".r",
   "mimetype": "text/x-r-source",
   "name": "R",
   "pygments_lexer": "r",
   "version": "3.2.0"
  }
 },
 "nbformat": 4,
 "nbformat_minor": 0
}
