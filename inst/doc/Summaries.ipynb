{
 "cells": [
  {
   "cell_type": "markdown",
   "metadata": {},
   "source": [
    "# Summaries of timing tests\n",
    "\n",
    "We compare several optimizers, in both [R](http://www.R-project.org) and [Julia](http://julialang.org), fitting a selection of linear mixed models.  In __R__ the optimizers are called by `lmer` from the [lme4 package](https://github.com/lme4/lme4) (version 1.1-8). In __Julia__ the `lmm` function from the [MixedModels package](https://github.com/dmbates/MixedModels.jl) calls the optimizers.\n",
    "\n",
    "There are differences in the model formulations in `lme4` and in `MixedModels`.  The numerical representation of the model in `lme4` and the method of evaluating the objective, described in [this paper](http://arxiv.org/abs/1406.5823), is the same for all models.  In `MixedModels` there are specialized representations for some model forms, such as models with a single grouping factor for the random effects.  Some of the specialized representations allow for evaluation of the gradient of the objects, which can enhance convergence (but, interestingly, sometimes can impede convergence).\n",
    "\n",
    "## Methodology\n",
    "\n",
    "To provide consistency we have copied all the data sets used in the timings to the `Timings` package itself.  We have done all timings on the same computer.  This computer has a relatively recent Intel processor and we used the [Intel Math Kernel Library (MKL)](https://software.intel.com/en-us/intel-mkl) with Julia.  We attempted to use [Revolution R Open (RRO)](www.revolutionanalytics.com/revolution-r-open) as the R implementation as it can be configured with MKL.  However, we ran into version problems with this so we used the standard Ubuntu version of R linked against OpenBLAS, which is also multi-threaded.\n",
    "\n",
    "Variables were renamed in the pattern:\n",
    "- __Y__ the response\n",
    "- __A__, __B__, $\\dots$ categorical covariates\n",
    "- __G__, __H__, __I__, $\\dots$ grouping factors for random effects\n",
    "- __U__, __V__, $\\dots$ (skipping __Y__) continuous covariates\n",
    "\n",
    "The timing results are saved in [JSON (JavaScript Object Notation)](http://json.org) files in the directory accessible as\n",
    "```r\n",
    "system.file(\"JSON\",package=\"Timings\")\n",
    "```\n",
    "within __R__.  The directory name will end with `./Timings/inst/JSON/` in the package source directory, for example the result of cloning the [github repository](https://github.com/Stat990-033/Timings).  There is one `.json` file for each data set.  Each such file contains results on timings of one or more models.\n",
    "\n",
    "The `Timings` package for __R__ provides a `retime` function that takes the name of one of these JSON files and, optionally, the name of a file with the updated timings.  Similarly there are some source files for Julia retimings.\n"
   ]
  },
  {
   "cell_type": "code",
   "execution_count": 1,
   "metadata": {
    "collapsed": false
   },
   "outputs": [
    {
     "name": "stdout",
     "output_type": "stream",
     "text": [
      "dsname => \"Alfalfa\"\n",
      "form => Formula: Y ~ 1 + B * A + (1 | G)\n",
      "nopt => 1\n",
      "mtype => PLSOne\n",
      "-2log(likelihood) time(s) feval geval optimizer\n",
      "      -10.8102     0.5050    15     0 bobyqa\n",
      "      -10.8102     0.0220    36     0 Nelder_Mead\n",
      "      -10.8102     0.0420    13     0 NLOPT_LN_BOBYQA\n",
      "      -10.8102     0.0210    22     0 NLOPT_LN_COBYLA\n",
      "      -10.8102     0.0210    24     0 NLOPT_LN_NELDERMEAD\n",
      "      -10.8102     0.0220    36     0 NLOPT_LN_SBPLX\n",
      "      -10.8102     0.1090    14     0 optimx:L-BFGS-B\n",
      "      -10.8102     0.1290    19     0 optimx:nlminb\n",
      "      -10.8102     0.2440    NA     0 optimx:spg\n",
      "      -10.8102     0.1090    NA     0 optimx:bobyqa\n",
      "      -10.8102     0.7684    15     0 LN_BOBYQA\n",
      "      -10.8102     0.0016    25     0 LN_COBYLA\n",
      "      -10.8102     0.0015    26     0 LN_NELDERMEAD\n",
      "      -10.8102     0.0022    50     0 LN_SBPLX\n",
      "      -10.8102     0.1039    14    14 LD_MMA\n",
      "      -10.8102     0.0013    16    16 LD_CCSAQ\n",
      "      -10.8102     0.0011    10     8 LD_SLSQP\n",
      "      -10.8102     0.0032     8     8 LD_LBFGS\n",
      "      -10.8102     0.0027     9     9 LD_TNEWTON\n",
      "      -10.8102     0.0032     9     9 LD_TNEWTON_PRECOND\n",
      "      -10.8102     0.0027    10    10 LD_TNEWTON_RESTART\n",
      "      -10.8102     0.0033    10    10 LD_TNEWTON_PRECOND_RESTART\n",
      "      -10.8102     0.0029     8     8 LD_VAR1\n",
      "      -10.8102     0.0031     8     8 LD_VAR2\n",
      "dsname => \"Alfalfa\"\n",
      "form => Formula: Y ~ 1 + B * A + (1 | G)\n",
      "nopt => 1\n",
      "mtype => PLSOne\n",
      "-2log(likelihood) time(s) feval geval optimizer\n",
      "      -10.8102     0.5050    15     0 bobyqa\n",
      "      -10.8102     0.0220    36     0 Nelder_Mead\n",
      "      -10.8102     0.0420    13     0 NLOPT_LN_BOBYQA\n",
      "      -10.8102     0.0210    22     0 NLOPT_LN_COBYLA\n",
      "      -10.8102     0.0210    24     0 NLOPT_LN_NELDERMEAD\n",
      "      -10.8102     0.0220    36     0 NLOPT_LN_SBPLX\n",
      "      -10.8102     0.1090    14     0 optimx:L-BFGS-B\n",
      "      -10.8102     0.1290    19     0 optimx:nlminb\n",
      "      -10.8102     0.2440    NA     0 optimx:spg\n",
      "      -10.8102     0.1090    NA     0 optimx:bobyqa\n",
      "      -10.8102     0.0011    15     0 LN_BOBYQA\n",
      "      -10.8102     0.0015    25     0 LN_COBYLA\n",
      "      -10.8102     0.0015    26     0 LN_NELDERMEAD\n",
      "      -10.8102     0.0022    50     0 LN_SBPLX\n",
      "      -10.8102     0.0013    14    14 LD_MMA\n",
      "      -10.8102     0.0013    16    16 LD_CCSAQ\n",
      "      -10.8102     0.0011    10     8 LD_SLSQP\n",
      "      -10.8102     0.0031     8     8 LD_LBFGS\n",
      "      -10.8102     0.0026     9     9 LD_TNEWTON\n",
      "      -10.8102     0.0032     9     9 LD_TNEWTON_PRECOND\n",
      "      -10.8102     0.0027    10    10 LD_TNEWTON_RESTART\n",
      "      -10.8102     0.0032    10    10 LD_TNEWTON_PRECOND_RESTART\n",
      "      -10.8102     0.0019     8     8 LD_VAR1\n",
      "      -10.8102     0.0019     8     8 LD_VAR2\n"
     ]
    }
   ],
   "source": [
    "include(\"../julia/retime.jl\")\n",
    "retime(\"../JSON/Alfalfa.json\",\"/tmp/Alfalfa.json\");\n",
    "retime(\"../JSON/Alfalfa.json\",\"/tmp/Alfalfa.json\");"
   ]
  },
  {
   "cell_type": "markdown",
   "metadata": {},
   "source": [
    "The timing was repeated so that compilation time is not included in the results.  This repetition is only needed\n",
    "once per session.\n",
    "\n",
    "A careful examination of these results shows that the main differences in the Julia timings (the R timings are merely reported, not evaluated) are that the `LN_BOBYQA` and `LD_MMA` optimizers are much faster in the second run.  This is because much of the code needs to be compiled the first time that a derivative-free optimizer and a derivative-based optimizer are used.\n",
    "\n",
    "The names of the optimizers used with `lmm` are those from the [NLopt package](https://github.com/JuliaOpt/NLopt.jl) for __Julia__.  Names that begin with `LD_` are gradient-based methods.  Names that begin with `LN_` are derivative-free methods.  There is one other derivative-free method, `LN_PRAXIS`, available in the `NLopt` package but, for some reason, it can hang on very simple problems like this.  Frequently we omit it.\n",
    "\n",
    "The optimizers used with `lmer` include the `Nelder_Mead` optimizer built into the `lme4` package, the `bobyqa` optimizer from the [minqa package](http://cran.rstudio.com/web/packages/minqa/index.html), the derivative-free optimizers from the [nloptr package](http://cran.rstudio.com/web/packages/nloptr/index.html) and several optimizers from the [optimx pacakge](http://cran.rstudio.com/web/packages/optimx/index.html).\n",
    "\n",
    "The `optimx:bobyqa` optimizer is just a wrapper around `bobyqa` (bounded optimization by quadratic approximation) from the `minqa` package and should provide results similar to those from the `bobyqa` optimizer.  For some reason the number of function evaluations is not reported for the version in `optimx`.\n",
    "\n",
    "The optimizers from `nloptr` (i.e. those whose names begin with `NLOPT_LN_`) use the same underlying code as do the similarly named optimizers in the `NLopt` package for __Julia__.  The number of iterations to convergence should be similar for the same underlying code, although not nessarily exactly the same because the evaluation of the objective in __R__ and in __Julia__ may produce slightly different answers.  Also the convergence criteria in the __Julia__ version are more strict than those in the __R__ version\n",
    "\n",
    "Also shown are the value of the criterion (negative twice the log-likelihood, lower is better) achieved, the elapsed time and the number of function and gradient evaluations.  The `nopt` value is the number of parameters in the optimization problem.  `mtype` is the model type in the __Julia__ code.  There are special methods for solving the penalized least squares (PLS) problem, and for evaluating the objective and its gradient when there is only one grouping factor for the random effects.  The model type is called `PLSOne`.\n",
    "\n",
    "The `Alfalfa` example is a particularly easy one and all of the optimizerws converge to an objective value close to -10.81023 in less than 0.6 seconds.\n",
    "\n",
    "### Tabulating results\n",
    "\n",
    "For the `Alfalfa` data there is not much of a burden in refitting the model with all the __Julia__ optimizers just to get the table shown above.  But other examples can take an hour or more to converge and we don't really need to refit them every time.  The `tabulate.jl` file contains a function `optdir` to create a `DataFrame` from the results of all the model fits."
   ]
  },
  {
   "cell_type": "code",
   "execution_count": 2,
   "metadata": {
    "collapsed": false,
    "scrolled": false
   },
   "outputs": [
    {
     "data": {
      "text/html": [
       "<table class=\"data-frame\"><tr><th></th><th>opt</th><th>dsname</th><th>n</th><th>np</th><th>time</th><th>reltime</th></tr><tr><th>1</th><td>LD_CCSAQ</td><td>Alfalfa</td><td>72</td><td>1</td><td>0.0018</td><td>1.18675756096427</td></tr><tr><th>2</th><td>LD_CCSAQ</td><td>AvgDailyGain</td><td>32</td><td>1</td><td>0.0014</td><td>0.7939900309324107</td></tr><tr><th>3</th><td>LD_CCSAQ</td><td>AvgDailyGain</td><td>32</td><td>1</td><td>0.0013</td><td>0.7800183920126117</td></tr><tr><th>4</th><td>LD_CCSAQ</td><td>BIB</td><td>24</td><td>1</td><td>0.0017</td><td>0.7335017714290688</td></tr><tr><th>5</th><td>LD_CCSAQ</td><td>Bond</td><td>21</td><td>1</td><td>0.0012</td><td>0.46272930249604566</td></tr><tr><th>6</th><td>LD_CCSAQ</td><td>bs10</td><td>1104</td><td>20</td><td>1.9115</td><td>3.193629527288553</td></tr><tr><th>7</th><td>LD_CCSAQ</td><td>bs10</td><td>1104</td><td>8</td><td>0.068</td><td>0.5029315137982849</td></tr><tr><th>8</th><td>LD_CCSAQ</td><td>cake</td><td>270</td><td>1</td><td>0.0052</td><td>0.559597260612849</td></tr><tr><th>9</th><td>LD_CCSAQ</td><td>Cultivation</td><td>24</td><td>1</td><td>0.001</td><td>0.7895020124718285</td></tr><tr><th>10</th><td>LD_CCSAQ</td><td>Demand</td><td>77</td><td>2</td><td>0.0089</td><td>2.748856761509577</td></tr><tr><th>11</th><td>LD_CCSAQ</td><td>dialectNL</td><td>225866</td><td>6</td><td>6.9896</td><td>3.9931976414938535</td></tr><tr><th>12</th><td>LD_CCSAQ</td><td>Dyestuff2</td><td>30</td><td>1</td><td>0.0004</td><td>0.6577751680509674</td></tr><tr><th>13</th><td>LD_CCSAQ</td><td>Dyestuff</td><td>30</td><td>1</td><td>0.0007</td><td>0.9996392943006971</td></tr><tr><th>14</th><td>LD_CCSAQ</td><td>ergoStool</td><td>36</td><td>1</td><td>0.0017</td><td>1.1365201986739406</td></tr><tr><th>15</th><td>LD_CCSAQ</td><td>Exam</td><td>4059</td><td>1</td><td>0.0198</td><td>1.2256617456271264</td></tr><tr><th>16</th><td>LD_CCSAQ</td><td>Exam</td><td>4059</td><td>1</td><td>0.0199</td><td>1.2207083715736182</td></tr><tr><th>17</th><td>LD_CCSAQ</td><td>Gasoline</td><td>32</td><td>1</td><td>0.001</td><td>0.8369387184488326</td></tr><tr><th>18</th><td>LD_CCSAQ</td><td>gb12</td><td>512</td><td>20</td><td>4.9895</td><td>6.909180914693914</td></tr><tr><th>19</th><td>LD_CCSAQ</td><td>gb12</td><td>512</td><td>8</td><td>0.0397</td><td>0.5141062256736711</td></tr><tr><th>20</th><td>LD_CCSAQ</td><td>HR</td><td>120</td><td>3</td><td>0.0206</td><td>1.3815797368729437</td></tr><tr><th>21</th><td>LD_CCSAQ</td><td>Hsb82</td><td>7185</td><td>1</td><td>0.0213</td><td>0.7880811796319512</td></tr><tr><th>22</th><td>LD_CCSAQ</td><td>kb07</td><td>1790</td><td>72</td><td>29.9534</td><td>1.8365300812673242</td></tr><tr><th>23</th><td>LD_CCSAQ</td><td>kb07</td><td>1790</td><td>16</td><td>0.4125</td><td>0.2562991060210456</td></tr><tr><th>24</th><td>LD_CCSAQ</td><td>Mississippi</td><td>37</td><td>1</td><td>0.0005</td><td>0.6631185249182192</td></tr><tr><th>25</th><td>LD_CCSAQ</td><td>mm0</td><td>69588</td><td>6</td><td>7.6422</td><td>3.782894123533386</td></tr><tr><th>26</th><td>LD_CCSAQ</td><td>Oxboys</td><td>234</td><td>3</td><td>0.0309</td><td>0.7583561034976175</td></tr><tr><th>27</th><td>LD_CCSAQ</td><td>PBIB</td><td>60</td><td>1</td><td>0.0022</td><td>1.0256641077343487</td></tr><tr><th>28</th><td>LD_CCSAQ</td><td>Penicillin</td><td>144</td><td>2</td><td>0.0108</td><td>4.386736290256489</td></tr><tr><th>29</th><td>LD_CCSAQ</td><td>Semiconductor</td><td>48</td><td>1</td><td>0.0019</td><td>1.0735166327262398</td></tr><tr><th>30</th><td>LD_CCSAQ</td><td>SIMS</td><td>3691</td><td>3</td><td>0.2893</td><td>0.9585513147988903</td></tr><tr><th>&vellip;</th><td>&vellip;</td><td>&vellip;</td><td>&vellip;</td><td>&vellip;</td><td>&vellip;</td><td>&vellip;</td></tr></table>"
      ],
      "text/plain": [
       "30x6 DataFrame\n",
       "| Row | opt        | dsname          | n      | np | time    | reltime  |\n",
       "|-----|------------|-----------------|--------|----|---------|----------|\n",
       "| 1   | \"LD_CCSAQ\" | \"Alfalfa\"       | 72     | 1  | 0.0018  | 1.18676  |\n",
       "| 2   | \"LD_CCSAQ\" | \"AvgDailyGain\"  | 32     | 1  | 0.0014  | 0.79399  |\n",
       "| 3   | \"LD_CCSAQ\" | \"AvgDailyGain\"  | 32     | 1  | 0.0013  | 0.780018 |\n",
       "| 4   | \"LD_CCSAQ\" | \"BIB\"           | 24     | 1  | 0.0017  | 0.733502 |\n",
       "| 5   | \"LD_CCSAQ\" | \"Bond\"          | 21     | 1  | 0.0012  | 0.462729 |\n",
       "| 6   | \"LD_CCSAQ\" | \"bs10\"          | 1104   | 20 | 1.9115  | 3.19363  |\n",
       "| 7   | \"LD_CCSAQ\" | \"bs10\"          | 1104   | 8  | 0.068   | 0.502932 |\n",
       "| 8   | \"LD_CCSAQ\" | \"cake\"          | 270    | 1  | 0.0052  | 0.559597 |\n",
       "| 9   | \"LD_CCSAQ\" | \"Cultivation\"   | 24     | 1  | 0.001   | 0.789502 |\n",
       "| 10  | \"LD_CCSAQ\" | \"Demand\"        | 77     | 2  | 0.0089  | 2.74886  |\n",
       "| 11  | \"LD_CCSAQ\" | \"dialectNL\"     | 225866 | 6  | 6.9896  | 3.9932   |\n",
       "⋮\n",
       "| 19  | \"LD_CCSAQ\" | \"gb12\"          | 512    | 8  | 0.0397  | 0.514106 |\n",
       "| 20  | \"LD_CCSAQ\" | \"HR\"            | 120    | 3  | 0.0206  | 1.38158  |\n",
       "| 21  | \"LD_CCSAQ\" | \"Hsb82\"         | 7185   | 1  | 0.0213  | 0.788081 |\n",
       "| 22  | \"LD_CCSAQ\" | \"kb07\"          | 1790   | 72 | 29.9534 | 1.83653  |\n",
       "| 23  | \"LD_CCSAQ\" | \"kb07\"          | 1790   | 16 | 0.4125  | 0.256299 |\n",
       "| 24  | \"LD_CCSAQ\" | \"Mississippi\"   | 37     | 1  | 0.0005  | 0.663119 |\n",
       "| 25  | \"LD_CCSAQ\" | \"mm0\"           | 69588  | 6  | 7.6422  | 3.78289  |\n",
       "| 26  | \"LD_CCSAQ\" | \"Oxboys\"        | 234    | 3  | 0.0309  | 0.758356 |\n",
       "| 27  | \"LD_CCSAQ\" | \"PBIB\"          | 60     | 1  | 0.0022  | 1.02566  |\n",
       "| 28  | \"LD_CCSAQ\" | \"Penicillin\"    | 144    | 2  | 0.0108  | 4.38674  |\n",
       "| 29  | \"LD_CCSAQ\" | \"Semiconductor\" | 48     | 1  | 0.0019  | 1.07352  |\n",
       "| 30  | \"LD_CCSAQ\" | \"SIMS\"          | 3691   | 3  | 0.2893  | 0.958551 |"
      ]
     },
     "execution_count": 2,
     "metadata": {},
     "output_type": "execute_result"
    }
   ],
   "source": [
    "include(\"../julia/tabulate.jl\")\n",
    "res = optdir(\"../JSON\");\n",
    "res[1:30,[1,2,3,6,8,9]]"
   ]
  },
  {
   "cell_type": "code",
   "execution_count": 3,
   "metadata": {
    "collapsed": false,
    "scrolled": false
   },
   "outputs": [
    {
     "data": {
      "text/html": [
       "<table class=\"data-frame\"><tr><th></th><th>opt</th><th>dsname</th><th>n</th><th>np</th><th>time</th><th>reltime</th></tr><tr><th>1</th><td>NLOPT_LN_BOBYQA</td><td>Alfalfa</td><td>72</td><td>1</td><td>0.042</td><td>27.121060665930138</td></tr><tr><th>2</th><td>NLOPT_LN_BOBYQA</td><td>Animal</td><td>20</td><td>2</td><td>0.023</td><td>21.0339945933453</td></tr><tr><th>3</th><td>NLOPT_LN_BOBYQA</td><td>Assay</td><td>60</td><td>2</td><td>0.032</td><td>7.050863829971174</td></tr><tr><th>4</th><td>NLOPT_LN_BOBYQA</td><td>AvgDailyGain</td><td>32</td><td>1</td><td>0.02</td><td>11.365941841617987</td></tr><tr><th>5</th><td>NLOPT_LN_BOBYQA</td><td>AvgDailyGain</td><td>32</td><td>1</td><td>0.02</td><td>12.052432904103613</td></tr><tr><th>6</th><td>NLOPT_LN_BOBYQA</td><td>BIB</td><td>24</td><td>1</td><td>0.02</td><td>8.70481114912038</td></tr><tr><th>7</th><td>NLOPT_LN_BOBYQA</td><td>Bond</td><td>21</td><td>1</td><td>0.02</td><td>8.037241361571377</td></tr><tr><th>8</th><td>NLOPT_LN_BOBYQA</td><td>bs10</td><td>1104</td><td>20</td><td>4.661</td><td>7.787334949766527</td></tr><tr><th>9</th><td>NLOPT_LN_BOBYQA</td><td>bs10</td><td>1104</td><td>8</td><td>1.057</td><td>7.815033751593052</td></tr><tr><th>10</th><td>NLOPT_LN_BOBYQA</td><td>cake</td><td>270</td><td>1</td><td>0.053</td><td>5.690593213204979</td></tr><tr><th>11</th><td>NLOPT_LN_BOBYQA</td><td>Chem97</td><td>31022</td><td>2</td><td>0.632</td><td>3.4776784493383857</td></tr><tr><th>12</th><td>NLOPT_LN_BOBYQA</td><td>Chem97</td><td>31022</td><td>2</td><td>0.556</td><td>3.0570402697206673</td></tr><tr><th>13</th><td>NLOPT_LN_BOBYQA</td><td>Cultivation</td><td>24</td><td>1</td><td>0.02</td><td>15.269133751500958</td></tr><tr><th>14</th><td>NLOPT_LN_BOBYQA</td><td>d3</td><td>130418</td><td>9</td><td>231.304</td><td>1.5906478540123579</td></tr><tr><th>15</th><td>NLOPT_LN_BOBYQA</td><td>Demand</td><td>77</td><td>2</td><td>0.026</td><td>8.020020438708073</td></tr><tr><th>16</th><td>NLOPT_LN_BOBYQA</td><td>dialectNL</td><td>225866</td><td>6</td><td>16.881</td><td>9.644144796804978</td></tr><tr><th>17</th><td>NLOPT_LN_BOBYQA</td><td>Dyestuff2</td><td>30</td><td>1</td><td>0.046</td><td>68.72944653371911</td></tr><tr><th>18</th><td>NLOPT_LN_BOBYQA</td><td>Dyestuff</td><td>30</td><td>1</td><td>0.02</td><td>30.56827960193375</td></tr><tr><th>19</th><td>NLOPT_LN_BOBYQA</td><td>egsingle</td><td>7230</td><td>2</td><td>0.172</td><td>2.364177455379683</td></tr><tr><th>20</th><td>NLOPT_LN_BOBYQA</td><td>ergoStool</td><td>36</td><td>1</td><td>0.019</td><td>12.75444274161815</td></tr><tr><th>21</th><td>NLOPT_LN_BOBYQA</td><td>Exam</td><td>4059</td><td>1</td><td>0.048</td><td>2.9703343426901836</td></tr><tr><th>22</th><td>NLOPT_LN_BOBYQA</td><td>Exam</td><td>4059</td><td>1</td><td>0.051</td><td>3.131681303898704</td></tr><tr><th>23</th><td>NLOPT_LN_BOBYQA</td><td>Gasoline</td><td>32</td><td>1</td><td>0.019</td><td>16.04958815912533</td></tr><tr><th>24</th><td>NLOPT_LN_BOBYQA</td><td>gb12</td><td>512</td><td>20</td><td>1.869</td><td>2.588068796246955</td></tr><tr><th>25</th><td>NLOPT_LN_BOBYQA</td><td>gb12</td><td>512</td><td>8</td><td>0.419</td><td>5.423504931907352</td></tr><tr><th>26</th><td>NLOPT_LN_BOBYQA</td><td>Genetics</td><td>60</td><td>2</td><td>0.026</td><td>14.429622016049182</td></tr><tr><th>27</th><td>NLOPT_LN_BOBYQA</td><td>HR</td><td>120</td><td>3</td><td>0.024</td><td>1.610801173576102</td></tr><tr><th>28</th><td>NLOPT_LN_BOBYQA</td><td>Hsb82</td><td>7185</td><td>1</td><td>0.073</td><td>2.7015172757216384</td></tr><tr><th>29</th><td>NLOPT_LN_BOBYQA</td><td>InstEval</td><td>73421</td><td>2</td><td>10.065</td><td>2.493805824884049</td></tr><tr><th>30</th><td>NLOPT_LN_BOBYQA</td><td>InstEval</td><td>73421</td><td>3</td><td>15.82</td><td>1.7177181822893188</td></tr><tr><th>&vellip;</th><td>&vellip;</td><td>&vellip;</td><td>&vellip;</td><td>&vellip;</td><td>&vellip;</td><td>&vellip;</td></tr></table>"
      ],
      "text/plain": [
       "48x6 DataFrame\n",
       "| Row | opt               | dsname          | n      | np | time   | reltime  |\n",
       "|-----|-------------------|-----------------|--------|----|--------|----------|\n",
       "| 1   | \"NLOPT_LN_BOBYQA\" | \"Alfalfa\"       | 72     | 1  | 0.042  | 27.1211  |\n",
       "| 2   | \"NLOPT_LN_BOBYQA\" | \"Animal\"        | 20     | 2  | 0.023  | 21.034   |\n",
       "| 3   | \"NLOPT_LN_BOBYQA\" | \"Assay\"         | 60     | 2  | 0.032  | 7.05086  |\n",
       "| 4   | \"NLOPT_LN_BOBYQA\" | \"AvgDailyGain\"  | 32     | 1  | 0.02   | 11.3659  |\n",
       "| 5   | \"NLOPT_LN_BOBYQA\" | \"AvgDailyGain\"  | 32     | 1  | 0.02   | 12.0524  |\n",
       "| 6   | \"NLOPT_LN_BOBYQA\" | \"BIB\"           | 24     | 1  | 0.02   | 8.70481  |\n",
       "| 7   | \"NLOPT_LN_BOBYQA\" | \"Bond\"          | 21     | 1  | 0.02   | 8.03724  |\n",
       "| 8   | \"NLOPT_LN_BOBYQA\" | \"bs10\"          | 1104   | 20 | 4.661  | 7.78733  |\n",
       "| 9   | \"NLOPT_LN_BOBYQA\" | \"bs10\"          | 1104   | 8  | 1.057  | 7.81503  |\n",
       "| 10  | \"NLOPT_LN_BOBYQA\" | \"cake\"          | 270    | 1  | 0.053  | 5.69059  |\n",
       "| 11  | \"NLOPT_LN_BOBYQA\" | \"Chem97\"        | 31022  | 2  | 0.632  | 3.47768  |\n",
       "⋮\n",
       "| 37  | \"NLOPT_LN_BOBYQA\" | \"PBIB\"          | 60     | 1  | 0.018  | 8.36101  |\n",
       "| 38  | \"NLOPT_LN_BOBYQA\" | \"Penicillin\"    | 144    | 2  | 0.023  | 9.37774  |\n",
       "| 39  | \"NLOPT_LN_BOBYQA\" | \"Poems\"         | 275996 | 3  | 21.309 | 2.62799  |\n",
       "| 40  | \"NLOPT_LN_BOBYQA\" | \"ScotsSec\"      | 3435   | 2  | 0.076  | 2.7256   |\n",
       "| 41  | \"NLOPT_LN_BOBYQA\" | \"Semi2\"         | 72     | 3  | 0.03   | 10.3996  |\n",
       "| 42  | \"NLOPT_LN_BOBYQA\" | \"Semiconductor\" | 48     | 1  | 0.019  | 10.9269  |\n",
       "| 43  | \"NLOPT_LN_BOBYQA\" | \"SIMS\"          | 3691   | 3  | 0.15   | 0.497082 |\n",
       "| 44  | \"NLOPT_LN_BOBYQA\" | \"sleepstudy\"    | 180    | 3  | 0.037  | 2.86806  |\n",
       "| 45  | \"NLOPT_LN_BOBYQA\" | \"sleepstudy\"    | 180    | 2  | 0.024  | 5.61699  |\n",
       "| 46  | \"NLOPT_LN_BOBYQA\" | \"TeachingII\"    | 96     | 1  | 0.021  | 10.2199  |\n",
       "| 47  | \"NLOPT_LN_BOBYQA\" | \"Weights\"       | 399    | 3  | 0.039  | 0.570779 |\n",
       "| 48  | \"NLOPT_LN_BOBYQA\" | \"WWheat\"        | 60     | 3  | 0.025  | 1.35151  |"
      ]
     },
     "execution_count": 3,
     "metadata": {},
     "output_type": "execute_result"
    }
   ],
   "source": [
    "res[res[:opt] .== \"NLOPT_LN_BOBYQA\",[1,2,3,6,8,9]]"
   ]
  },
  {
   "cell_type": "markdown",
   "metadata": {},
   "source": [
    "## Proportion converged\n",
    "\n",
    "The most important question regarding the optimizers is whether or not they have converged to the global optimum.  We cannot test this directly.  Instead we use a \"crowd-sourced\" criterion based on the minimum objective achieved by any of the algorithms.  The difference between the objective achieved by a particular algorithm and this minimum is called the `excess`.  In the summaries `excess` is rounded to 5 digits after the decimal so the minimum non-zero `excess` is $10^{-5}$."
   ]
  },
  {
   "cell_type": "code",
   "execution_count": 4,
   "metadata": {
    "collapsed": false,
    "scrolled": false
   },
   "outputs": [
    {
     "data": {
      "text/html": [
       "<table class=\"data-frame\"><tr><th></th><th>opt</th><th>dsname</th><th>excess</th></tr><tr><th>1</th><td>LN_BOBYQA</td><td>Alfalfa</td><td>0.0</td></tr><tr><th>2</th><td>LN_BOBYQA</td><td>Animal</td><td>0.0</td></tr><tr><th>3</th><td>LN_BOBYQA</td><td>Assay</td><td>0.0</td></tr><tr><th>4</th><td>LN_BOBYQA</td><td>AvgDailyGain</td><td>0.0</td></tr><tr><th>5</th><td>LN_BOBYQA</td><td>AvgDailyGain</td><td>0.0</td></tr><tr><th>6</th><td>LN_BOBYQA</td><td>BIB</td><td>0.0</td></tr><tr><th>7</th><td>LN_BOBYQA</td><td>Bond</td><td>0.0</td></tr><tr><th>8</th><td>LN_BOBYQA</td><td>bs10</td><td>0.0</td></tr><tr><th>9</th><td>LN_BOBYQA</td><td>bs10</td><td>0.0</td></tr><tr><th>10</th><td>LN_BOBYQA</td><td>cake</td><td>0.0</td></tr><tr><th>11</th><td>LN_BOBYQA</td><td>Chem97</td><td>0.0</td></tr><tr><th>12</th><td>LN_BOBYQA</td><td>Chem97</td><td>0.0</td></tr><tr><th>13</th><td>LN_BOBYQA</td><td>Cultivation</td><td>0.0</td></tr><tr><th>14</th><td>LN_BOBYQA</td><td>d3</td><td>5.0e-5</td></tr><tr><th>15</th><td>LN_BOBYQA</td><td>Demand</td><td>0.0</td></tr><tr><th>16</th><td>LN_BOBYQA</td><td>dialectNL</td><td>1.0e-5</td></tr><tr><th>17</th><td>LN_BOBYQA</td><td>Dyestuff2</td><td>0.0</td></tr><tr><th>18</th><td>LN_BOBYQA</td><td>Dyestuff</td><td>0.0</td></tr><tr><th>19</th><td>LN_BOBYQA</td><td>egsingle</td><td>0.0</td></tr><tr><th>20</th><td>LN_BOBYQA</td><td>ergoStool</td><td>0.0</td></tr><tr><th>21</th><td>LN_BOBYQA</td><td>Exam</td><td>0.0</td></tr><tr><th>22</th><td>LN_BOBYQA</td><td>Exam</td><td>0.0</td></tr><tr><th>23</th><td>LN_BOBYQA</td><td>Gasoline</td><td>0.0</td></tr><tr><th>24</th><td>LN_BOBYQA</td><td>gb12</td><td>0.0</td></tr><tr><th>25</th><td>LN_BOBYQA</td><td>gb12</td><td>0.0</td></tr><tr><th>26</th><td>LN_BOBYQA</td><td>Genetics</td><td>0.0</td></tr><tr><th>27</th><td>LN_BOBYQA</td><td>HR</td><td>0.0</td></tr><tr><th>28</th><td>LN_BOBYQA</td><td>Hsb82</td><td>0.0</td></tr><tr><th>29</th><td>LN_BOBYQA</td><td>InstEval</td><td>0.0</td></tr><tr><th>30</th><td>LN_BOBYQA</td><td>InstEval</td><td>0.0</td></tr><tr><th>&vellip;</th><td>&vellip;</td><td>&vellip;</td><td>&vellip;</td></tr></table>"
      ],
      "text/plain": [
       "50x3 DataFrame\n",
       "| Row | opt         | dsname          | excess |\n",
       "|-----|-------------|-----------------|--------|\n",
       "| 1   | \"LN_BOBYQA\" | \"Alfalfa\"       | 0.0    |\n",
       "| 2   | \"LN_BOBYQA\" | \"Animal\"        | 0.0    |\n",
       "| 3   | \"LN_BOBYQA\" | \"Assay\"         | 0.0    |\n",
       "| 4   | \"LN_BOBYQA\" | \"AvgDailyGain\"  | 0.0    |\n",
       "| 5   | \"LN_BOBYQA\" | \"AvgDailyGain\"  | 0.0    |\n",
       "| 6   | \"LN_BOBYQA\" | \"BIB\"           | 0.0    |\n",
       "| 7   | \"LN_BOBYQA\" | \"Bond\"          | 0.0    |\n",
       "| 8   | \"LN_BOBYQA\" | \"bs10\"          | 0.0    |\n",
       "| 9   | \"LN_BOBYQA\" | \"bs10\"          | 0.0    |\n",
       "| 10  | \"LN_BOBYQA\" | \"cake\"          | 0.0    |\n",
       "| 11  | \"LN_BOBYQA\" | \"Chem97\"        | 0.0    |\n",
       "⋮\n",
       "| 39  | \"LN_BOBYQA\" | \"PBIB\"          | 0.0    |\n",
       "| 40  | \"LN_BOBYQA\" | \"Penicillin\"    | 0.0    |\n",
       "| 41  | \"LN_BOBYQA\" | \"Poems\"         | 0.0    |\n",
       "| 42  | \"LN_BOBYQA\" | \"ScotsSec\"      | 0.0    |\n",
       "| 43  | \"LN_BOBYQA\" | \"Semi2\"         | 0.0    |\n",
       "| 44  | \"LN_BOBYQA\" | \"Semiconductor\" | 0.0    |\n",
       "| 45  | \"LN_BOBYQA\" | \"SIMS\"          | 0.0    |\n",
       "| 46  | \"LN_BOBYQA\" | \"sleepstudy\"    | 0.0    |\n",
       "| 47  | \"LN_BOBYQA\" | \"sleepstudy\"    | 0.0    |\n",
       "| 48  | \"LN_BOBYQA\" | \"TeachingII\"    | 0.0    |\n",
       "| 49  | \"LN_BOBYQA\" | \"Weights\"       | 0.0    |\n",
       "| 50  | \"LN_BOBYQA\" | \"WWheat\"        | 0.0    |"
      ]
     },
     "execution_count": 4,
     "metadata": {},
     "output_type": "execute_result"
    }
   ],
   "source": [
    "res[res[:opt] .== \"LN_BOBYQA\",[:opt,:dsname,:excess]]"
   ]
  },
  {
   "cell_type": "markdown",
   "metadata": {},
   "source": [
    "If we wish to declare \"converged\" or \"not converged\" according to the excess objective value we must establish a threshold. An absolute threshold seems reasonable because the objective, negative twice the log-likelihood, is on a scale where differences in this objective are compared to a $\\chi^2$ random variable.  Thus an excess of $10^{-9}$ or even $10^{-5}$ is negligible.\n",
    "\n",
    "For each optimizer we can examine which of the data set/model combinations resulted in an excess greater than a threshold."
   ]
  },
  {
   "cell_type": "code",
   "execution_count": 5,
   "metadata": {
    "collapsed": false,
    "scrolled": false
   },
   "outputs": [
    {
     "data": {
      "text/html": [
       "<table class=\"data-frame\"><tr><th></th><th>opt</th><th>attempted</th><th>failed</th></tr><tr><th>1</th><td>LD_CCSAQ</td><td>35</td><td>11</td></tr><tr><th>2</th><td>LD_LBFGS</td><td>35</td><td>10</td></tr><tr><th>3</th><td>LD_MMA</td><td>35</td><td>5</td></tr><tr><th>4</th><td>LD_SLSQP</td><td>35</td><td>5</td></tr><tr><th>5</th><td>LD_TNEWTON</td><td>34</td><td>8</td></tr><tr><th>6</th><td>LD_TNEWTON_PRECOND</td><td>34</td><td>8</td></tr><tr><th>7</th><td>LD_TNEWTON_PRECOND_RESTART</td><td>33</td><td>12</td></tr><tr><th>8</th><td>LD_TNEWTON_RESTART</td><td>34</td><td>10</td></tr><tr><th>9</th><td>LD_VAR1</td><td>35</td><td>10</td></tr><tr><th>10</th><td>LD_VAR2</td><td>35</td><td>10</td></tr><tr><th>11</th><td>LN_BOBYQA</td><td>50</td><td>0</td></tr><tr><th>12</th><td>LN_COBYLA</td><td>50</td><td>1</td></tr><tr><th>13</th><td>LN_NELDERMEAD</td><td>50</td><td>8</td></tr><tr><th>14</th><td>LN_PRAXIS</td><td>21</td><td>4</td></tr><tr><th>15</th><td>LN_SBPLX</td><td>50</td><td>2</td></tr><tr><th>16</th><td>NLOPT_LN_BOBYQA</td><td>48</td><td>0</td></tr><tr><th>17</th><td>NLOPT_LN_COBYLA</td><td>47</td><td>2</td></tr><tr><th>18</th><td>NLOPT_LN_NELDERMEAD</td><td>46</td><td>6</td></tr><tr><th>19</th><td>NLOPT_LN_PRAXIS</td><td>19</td><td>5</td></tr><tr><th>20</th><td>NLOPT_LN_SBPLX</td><td>47</td><td>2</td></tr><tr><th>21</th><td>Nelder_Mead</td><td>48</td><td>8</td></tr><tr><th>22</th><td>bobyqa</td><td>50</td><td>2</td></tr><tr><th>23</th><td>nloptwrap</td><td>2</td><td>0</td></tr><tr><th>24</th><td>optimx:L-BFGS-B</td><td>48</td><td>0</td></tr><tr><th>25</th><td>optimx:bobyqa</td><td>48</td><td>2</td></tr><tr><th>26</th><td>optimx:nlminb</td><td>48</td><td>0</td></tr><tr><th>27</th><td>optimx:spg</td><td>48</td><td>3</td></tr><tr><th>&vellip;</th><td>&vellip;</td><td>&vellip;</td><td>&vellip;</td></tr></table>"
      ],
      "text/plain": [
       "27x3 DataFrame\n",
       "| Row | opt                          | attempted | failed |\n",
       "|-----|------------------------------|-----------|--------|\n",
       "| 1   | \"LD_CCSAQ\"                   | 35        | 11     |\n",
       "| 2   | \"LD_LBFGS\"                   | 35        | 10     |\n",
       "| 3   | \"LD_MMA\"                     | 35        | 5      |\n",
       "| 4   | \"LD_SLSQP\"                   | 35        | 5      |\n",
       "| 5   | \"LD_TNEWTON\"                 | 34        | 8      |\n",
       "| 6   | \"LD_TNEWTON_PRECOND\"         | 34        | 8      |\n",
       "| 7   | \"LD_TNEWTON_PRECOND_RESTART\" | 33        | 12     |\n",
       "| 8   | \"LD_TNEWTON_RESTART\"         | 34        | 10     |\n",
       "| 9   | \"LD_VAR1\"                    | 35        | 10     |\n",
       "| 10  | \"LD_VAR2\"                    | 35        | 10     |\n",
       "| 11  | \"LN_BOBYQA\"                  | 50        | 0      |\n",
       "⋮\n",
       "| 16  | \"NLOPT_LN_BOBYQA\"            | 48        | 0      |\n",
       "| 17  | \"NLOPT_LN_COBYLA\"            | 47        | 2      |\n",
       "| 18  | \"NLOPT_LN_NELDERMEAD\"        | 46        | 6      |\n",
       "| 19  | \"NLOPT_LN_PRAXIS\"            | 19        | 5      |\n",
       "| 20  | \"NLOPT_LN_SBPLX\"             | 47        | 2      |\n",
       "| 21  | \"Nelder_Mead\"                | 48        | 8      |\n",
       "| 22  | \"bobyqa\"                     | 50        | 2      |\n",
       "| 23  | \"nloptwrap\"                  | 2         | 0      |\n",
       "| 24  | \"optimx:L-BFGS-B\"            | 48        | 0      |\n",
       "| 25  | \"optimx:bobyqa\"              | 48        | 2      |\n",
       "| 26  | \"optimx:nlminb\"              | 48        | 0      |\n",
       "| 27  | \"optimx:spg\"                 | 48        | 3      |"
      ]
     },
     "execution_count": 5,
     "metadata": {},
     "output_type": "execute_result"
    }
   ],
   "source": [
    "by(res,:opt) do df\n",
    "    DataFrame(attempted=size(df,1),failed=countnz(df[:excess] .> 0.02))\n",
    "end"
   ]
  },
  {
   "cell_type": "markdown",
   "metadata": {},
   "source": [
    "At this threshold the most reliable algorithm in Julia is `LN_BOBYQA`.  In R the most reliable algorithms are `NLOPT_LN_BOBYQA`, `optimx:L-BFGS-B` and `optimx:nlminb`.  It is interesting that nlminb is reliable as I felt that it wasn't converging well when it was the default optimizer in `lmer`.\n",
    "\n",
    "Interestingly, the derviative-based algorithms in `NLopt` were not as reliable as the derivative-free algorithms. The most likely explanation is that I don't have the gradient coded properly.\n",
    "\n",
    "The Nelder-Mead simplex algorithm did not perform well, failing on 8 out of 49 cases.  For many of these the value at which convergence was declared was far from the optimum."
   ]
  },
  {
   "cell_type": "code",
   "execution_count": 7,
   "metadata": {
    "collapsed": false
   },
   "outputs": [
    {
     "data": {
      "text/html": [
       "<table class=\"data-frame\"><tr><th></th><th>opt</th><th>dsname</th><th>excess</th><th>time</th><th>reltime</th><th>np</th><th>n</th></tr><tr><th>1</th><td>Nelder_Mead</td><td>bs10</td><td>71.3859</td><td>145.368</td><td>242.8726253974782</td><td>20</td><td>1104</td></tr><tr><th>2</th><td>Nelder_Mead</td><td>d3</td><td>317.58983</td><td>454.519</td><td>3.125668695560141</td><td>9</td><td>130418</td></tr><tr><th>3</th><td>Nelder_Mead</td><td>dialectNL</td><td>181.63206</td><td>54.541</td><td>31.159368601536592</td><td>6</td><td>225866</td></tr><tr><th>4</th><td>Nelder_Mead</td><td>gb12</td><td>78.71194</td><td>38.206</td><td>52.905166628897575</td><td>20</td><td>512</td></tr><tr><th>5</th><td>Nelder_Mead</td><td>kb07</td><td>398.73182</td><td>2825.461</td><td>173.23703287433906</td><td>72</td><td>1790</td></tr><tr><th>6</th><td>Nelder_Mead</td><td>kb07</td><td>403.47789</td><td>269.436</td><td>167.39131769423307</td><td>16</td><td>1790</td></tr><tr><th>7</th><td>Nelder_Mead</td><td>Mississippi</td><td>0.04272</td><td>0.018</td><td>22.15281008385503</td><td>1</td><td>37</td></tr><tr><th>8</th><td>Nelder_Mead</td><td>mm0</td><td>181.63206</td><td>76.87</td><td>38.05047668426426</td><td>6</td><td>69588</td></tr></table>"
      ],
      "text/plain": [
       "8x7 DataFrame\n",
       "| Row | opt           | dsname        | excess  | time    | reltime | np |\n",
       "|-----|---------------|---------------|---------|---------|---------|----|\n",
       "| 1   | \"Nelder_Mead\" | \"bs10\"        | 71.3859 | 145.368 | 242.873 | 20 |\n",
       "| 2   | \"Nelder_Mead\" | \"d3\"          | 317.59  | 454.519 | 3.12567 | 9  |\n",
       "| 3   | \"Nelder_Mead\" | \"dialectNL\"   | 181.632 | 54.541  | 31.1594 | 6  |\n",
       "| 4   | \"Nelder_Mead\" | \"gb12\"        | 78.7119 | 38.206  | 52.9052 | 20 |\n",
       "| 5   | \"Nelder_Mead\" | \"kb07\"        | 398.732 | 2825.46 | 173.237 | 72 |\n",
       "| 6   | \"Nelder_Mead\" | \"kb07\"        | 403.478 | 269.436 | 167.391 | 16 |\n",
       "| 7   | \"Nelder_Mead\" | \"Mississippi\" | 0.04272 | 0.018   | 22.1528 | 1  |\n",
       "| 8   | \"Nelder_Mead\" | \"mm0\"         | 181.632 | 76.87   | 38.0505 | 6  |\n",
       "\n",
       "| Row | n      |\n",
       "|-----|--------|\n",
       "| 1   | 1104   |\n",
       "| 2   | 130418 |\n",
       "| 3   | 225866 |\n",
       "| 4   | 512    |\n",
       "| 5   | 1790   |\n",
       "| 6   | 1790   |\n",
       "| 7   | 37     |\n",
       "| 8   | 69588  |"
      ]
     },
     "execution_count": 7,
     "metadata": {},
     "output_type": "execute_result"
    }
   ],
   "source": [
    "noncvg = \n",
    "by(res,:opt) do df\n",
    "    df[df[:excess] .> 0.005,[:dsname,:excess,:time,:reltime,:np,:n]]\n",
    "end;\n",
    "dfselect(df::AbstractDataFrame,col::Symbol,val) = df[df[col] .== val, :]\n",
    "dfselect(noncvg,:opt,\"Nelder_Mead\")"
   ]
  },
  {
   "cell_type": "code",
   "execution_count": 8,
   "metadata": {
    "collapsed": false
   },
   "outputs": [
    {
     "data": {
      "text/html": [
       "<table class=\"data-frame\"><tr><th></th><th>opt</th><th>dsname</th><th>excess</th><th>time</th><th>reltime</th><th>np</th><th>n</th></tr><tr><th>1</th><td>NLOPT_LN_NELDERMEAD</td><td>Assay</td><td>0.05942</td><td>0.042</td><td>9.25425877683853</td><td>2</td><td>60</td></tr><tr><th>2</th><td>NLOPT_LN_NELDERMEAD</td><td>bs10</td><td>0.97096</td><td>88.286</td><td>147.50325109956603</td><td>20</td><td>1104</td></tr><tr><th>3</th><td>NLOPT_LN_NELDERMEAD</td><td>d3</td><td>100.19076</td><td>627.931</td><td>4.318200712559376</td><td>9</td><td>130418</td></tr><tr><th>4</th><td>NLOPT_LN_NELDERMEAD</td><td>gb12</td><td>0.83883</td><td>52.411</td><td>72.5753203210793</td><td>20</td><td>512</td></tr><tr><th>5</th><td>NLOPT_LN_NELDERMEAD</td><td>kb07</td><td>88.76861</td><td>2839.075</td><td>174.07174585234557</td><td>72</td><td>1790</td></tr><tr><th>6</th><td>NLOPT_LN_NELDERMEAD</td><td>kb07</td><td>3.49868</td><td>198.845</td><td>123.53555785755934</td><td>16</td><td>1790</td></tr></table>"
      ],
      "text/plain": [
       "6x7 DataFrame\n",
       "| Row | opt                   | dsname  | excess  | time    | reltime | np |\n",
       "|-----|-----------------------|---------|---------|---------|---------|----|\n",
       "| 1   | \"NLOPT_LN_NELDERMEAD\" | \"Assay\" | 0.05942 | 0.042   | 9.25426 | 2  |\n",
       "| 2   | \"NLOPT_LN_NELDERMEAD\" | \"bs10\"  | 0.97096 | 88.286  | 147.503 | 20 |\n",
       "| 3   | \"NLOPT_LN_NELDERMEAD\" | \"d3\"    | 100.191 | 627.931 | 4.3182  | 9  |\n",
       "| 4   | \"NLOPT_LN_NELDERMEAD\" | \"gb12\"  | 0.83883 | 52.411  | 72.5753 | 20 |\n",
       "| 5   | \"NLOPT_LN_NELDERMEAD\" | \"kb07\"  | 88.7686 | 2839.07 | 174.072 | 72 |\n",
       "| 6   | \"NLOPT_LN_NELDERMEAD\" | \"kb07\"  | 3.49868 | 198.845 | 123.536 | 16 |\n",
       "\n",
       "| Row | n      |\n",
       "|-----|--------|\n",
       "| 1   | 60     |\n",
       "| 2   | 1104   |\n",
       "| 3   | 130418 |\n",
       "| 4   | 512    |\n",
       "| 5   | 1790   |\n",
       "| 6   | 1790   |"
      ]
     },
     "execution_count": 8,
     "metadata": {},
     "output_type": "execute_result"
    }
   ],
   "source": [
    "dfselect(noncvg,:opt,\"NLOPT_LN_NELDERMEAD\")"
   ]
  },
  {
   "cell_type": "markdown",
   "metadata": {},
   "source": [
    "The `Nelder_Mead` algorithm, either in the native form in `lmer` or in the `NLopt` implementation performed poorly on those cases with many parameters to optimize.  It was both unreliable and slow, taking over 45 minutes to reach a spurious optimum on the \"maximal\" model (in the sense of Barr et al., 2012) for the `kb07` data from Kronmueller and Barr (2007).  This is not terribly surprising given that the model is horribly overparameterized, but still it shows that this algorithm is not a good choice in these cases.\n",
    "\n",
    "We note in passing that all the models involving fitting 20 or more parameters are \"maximal\" models in the sense of Barr et al., 2012.  Such models can present difficult optimization problems because they are severely overparameterized and inevitably converge on the boundary of the allowable parameter space.  Whether or not it is sensible to compare results on such extreme cases is not clear.\n",
    "\n",
    "The `SBPLX` (subplex) algorithm, which is an enhancement of `Nelder_Mead`, does better in these cases but is still rather slow."
   ]
  },
  {
   "cell_type": "code",
   "execution_count": 9,
   "metadata": {
    "collapsed": false
   },
   "outputs": [
    {
     "data": {
      "text/html": [
       "<table class=\"data-frame\"><tr><th></th><th>opt</th><th>dsname</th><th>excess</th><th>time</th><th>reltime</th><th>np</th><th>n</th></tr><tr><th>1</th><td>NLOPT_LN_SBPLX</td><td>gb12</td><td>0.82219</td><td>3.813</td><td>5.279992680625711</td><td>20</td><td>512</td></tr><tr><th>2</th><td>NLOPT_LN_SBPLX</td><td>kb07</td><td>4.96546</td><td>564.688</td><td>34.62262392570444</td><td>72</td><td>1790</td></tr></table>"
      ],
      "text/plain": [
       "2x7 DataFrame\n",
       "| Row | opt              | dsname | excess  | time    | reltime | np | n    |\n",
       "|-----|------------------|--------|---------|---------|---------|----|------|\n",
       "| 1   | \"NLOPT_LN_SBPLX\" | \"gb12\" | 0.82219 | 3.813   | 5.27999 | 20 | 512  |\n",
       "| 2   | \"NLOPT_LN_SBPLX\" | \"kb07\" | 4.96546 | 564.688 | 34.6226 | 72 | 1790 |"
      ]
     },
     "execution_count": 9,
     "metadata": {},
     "output_type": "execute_result"
    }
   ],
   "source": [
    "dfselect(noncvg,:opt,\"NLOPT_LN_SBPLX\")"
   ]
  },
  {
   "cell_type": "markdown",
   "metadata": {},
   "source": [
    "By comparison, the `LN_BOBYQA` algorithm converges quite rapidly on the `kb07` models."
   ]
  },
  {
   "cell_type": "code",
   "execution_count": 10,
   "metadata": {
    "collapsed": false
   },
   "outputs": [
    {
     "data": {
      "text/html": [
       "<table class=\"data-frame\"><tr><th></th><th>dsname</th><th>excess</th><th>objective</th><th>time</th><th>np</th></tr><tr><th>1</th><td>kb07</td><td>0.0016</td><td>28586.31922</td><td>16.3098</td><td>72</td></tr><tr><th>2</th><td>kb07</td><td>0.0</td><td>28670.91332</td><td>1.6096</td><td>16</td></tr></table>"
      ],
      "text/plain": [
       "2x5 DataFrame\n",
       "| Row | dsname | excess | objective | time    | np |\n",
       "|-----|--------|--------|-----------|---------|----|\n",
       "| 1   | \"kb07\" | 0.0016 | 28586.3   | 16.3098 | 72 |\n",
       "| 2   | \"kb07\" | 0.0    | 28670.9   | 1.6096  | 16 |"
      ]
     },
     "execution_count": 10,
     "metadata": {},
     "output_type": "execute_result"
    }
   ],
   "source": [
    "bobyqa = res[convert(Array,res[:opt] .== \"LN_BOBYQA\") & \n",
    "    convert(Array,res[:dsname] .== \"kb07\"),\n",
    "    [:dsname,:excess,:objective,:time,:np]]"
   ]
  }
 ],
 "metadata": {
  "kernelspec": {
   "display_name": "Julia 0.3.11-pre",
   "language": "julia",
   "name": "julia-0.3"
  },
  "language_info": {
   "name": "julia",
   "version": "0.3.11"
  }
 },
 "nbformat": 4,
 "nbformat_minor": 0
}
