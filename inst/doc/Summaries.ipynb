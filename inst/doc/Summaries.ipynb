{
 "cells": [
  {
   "cell_type": "markdown",
   "metadata": {},
   "source": [
    "# Summaries of timing tests\n",
    "\n",
    "We compare several optimizers, in both [R](http://www.R-project.org) and [Julia](http://julialang.org), fitting a selection of linear mixed models.  In __R__ the optimizers are called from `lmer` from the [lme4 package](https://github.com/lme4/lme4) (version 1.1-8). In __Julia__ the `lmm` function from the [MixedModels package](https://github.com/dmbates/MixedModels.jl) calls the optimizers.\n",
    "\n",
    "There are differences in the model formulations in `lme4` and in `MixedModels`.  The numerical representation of the model in `lme4` and the method of evaluating the objective, described in [this paper](http://arxiv.org/abs/1406.5823), is the same for all models.  In `MixedModels` there are specialized representations for some model forms, such as models with a single grouping factor for the random effects.  Some of the specialized representations allow for evaluation of the gradient of the objects, which can enhance convergence (but, interestingly, sometimes can impede convergence).\n",
    "\n",
    "## Methodology\n",
    "\n",
    "To provide consistency we have copied all the data sets used in the timings to the `Timings` package itself.  We have done all timings on the same computer.  This computer has a relatively recent Intel processor and we used the [Intel Math Kernel Library (MKL)](https://software.intel.com/en-us/intel-mkl) with Julia.  We attempted to use [Revolution R Open (RRO)](www.revolutionanalytics.com/revolution-r-open) as the R implementation as it can be configured with MKL.  However, we ran into version problems with this so we used the standard Ubuntu version of R linked against OpenBLAS, which is also multi-threaded.\n",
    "\n",
    "Variables were renamed in the pattern:\n",
    "- __Y__ the response\n",
    "- __A__, __B__, $\\dots$ categorical covariates\n",
    "- __G__, __H__, __I__, $\\dots$ grouping factors for random effects\n",
    "- __U__, __V__, $\\dots$ (skipping __Y__) continuous covariates\n",
    "\n",
    "The data are saved in [JSON (JavaScript Object Notation)](http://json.org) files in the directory accessible as\n",
    "```r\n",
    "system.file(\"JSON\",package=\"Timings\")\n",
    "```\n",
    "within R.  The directory name will end with `./Timings/inst/JSON/` in the package source directory, for example the result of cloning the [github repository](https://github.com/Stat990-033/Timings).\n",
    "\n",
    "The `Timings` package for __R__ provides a `retime` function that takes the name of one of these JSON files and, optionally, the name of a file with the updated timings.  Similarly there are some source files for Julia retimings.\n"
   ]
  },
  {
   "cell_type": "code",
   "execution_count": 16,
   "metadata": {
    "collapsed": false
   },
   "outputs": [
    {
     "data": {
      "text/plain": [
       "retime (generic function with 2 methods)"
      ]
     },
     "execution_count": 16,
     "metadata": {},
     "output_type": "execute_result"
    }
   ],
   "source": [
    "include(\"../julia/retime.jl\")"
   ]
  },
  {
   "cell_type": "code",
   "execution_count": 17,
   "metadata": {
    "collapsed": false
   },
   "outputs": [
    {
     "name": "stdout",
     "output_type": "stream",
     "text": [
      "dsname => \"Alfalfa\"\n",
      "form => Formula: Y ~ 1 + B * A + (1 | G)\n",
      "nopt => 1\n",
      "mtype => PLSOne\n",
      "-2log(likelihood) time(s) feval geval optimizer\n",
      "      -10.8102     0.5050    15     0 bobyqa\n",
      "      -10.8102     0.0220    36     0 Nelder_Mead\n",
      "      -10.8102     0.0420    13     0 NLOPT_LN_BOBYQA\n",
      "      -10.8102     0.0210    22     0 NLOPT_LN_COBYLA\n",
      "      -10.8102     0.0210    24     0 NLOPT_LN_NELDERMEAD\n",
      "      -10.8102     0.0220    36     0 NLOPT_LN_SBPLX\n",
      "      -10.8102     0.1090    14     0 optimx:L-BFGS-B\n",
      "      -10.8102     0.1290    19     0 optimx:nlminb\n",
      "      -10.8102     0.2440    NA     0 optimx:spg\n",
      "      -10.8102     0.1090    NA     0 optimx:bobyqa\n",
      "      -10.8102     0.0017    15     0 LN_BOBYQA\n",
      "      -10.8102     0.0021    25     0 LN_COBYLA\n",
      "      -10.8102     0.0021    26     0 LN_NELDERMEAD\n",
      "      -10.8102     0.0032    50     0 LN_SBPLX\n",
      "      -10.8102     0.0016    14    14 LD_MMA\n",
      "      -10.8102     0.0018    16    16 LD_CCSAQ\n",
      "      -10.8102     0.0014    10     8 LD_SLSQP\n",
      "      -10.8102     0.0073     8     8 LD_LBFGS\n",
      "      -10.8102     0.0064     9     9 LD_TNEWTON\n",
      "      -10.8102     0.0074     9     9 LD_TNEWTON_PRECOND\n",
      "      -10.8102     0.0065    10    10 LD_TNEWTON_RESTART\n",
      "      -10.8102     0.0075    10    10 LD_TNEWTON_PRECOND_RESTART\n",
      "      -10.8102     0.0036     8     8 LD_VAR1\n",
      "      -10.8102     0.0035     8     8 LD_VAR2\n"
     ]
    },
    {
     "data": {
      "text/plain": [
       "5005"
      ]
     },
     "execution_count": 17,
     "metadata": {},
     "output_type": "execute_result"
    }
   ],
   "source": [
    "retime(\"../JSON/Alfalfa.json\",\"/tmp/Alfalfa.json\")"
   ]
  },
  {
   "cell_type": "markdown",
   "metadata": {},
   "source": [
    "The names of the optimizers used with `lmm` are those from the [NLopt package](https://github.com/JuliaOpt/NLopt.jl) for __Julia__.  Names that begin with `LD_` are gradient-based methods.  Names that begin with `LN_` are derivative-free methods.  There is one other derivative-free method, `LN_PRAXIS`, available in the `NLopt` package but, for some reason, it can hang on very simple problems like this.  Frequently we omit it.\n",
    "\n",
    "The optimizers used with `lmer` include the `Nelder_Mead` optimizer built into the `lme4` package, the `bobyqa` optimizer from the [minqa package](http://cran.rstudio.com/web/packages/minqa/index.html), the derivative-free optimizers from the [nloptr package](http://cran.rstudio.com/web/packages/nloptr/index.html) and several optimizers from the [optimx pacakge](http://cran.rstudio.com/web/packages/optimx/index.html).\n",
    "\n",
    "The `optimx:bobyqa` optimizer is just a wrapper around `bobyqa` (bounded optimization by quadratic approximation) from the `minqa` package and should provide results similar to those from the `bobyqa` optimizer.  For some reason the number of function evaluations is not reported for the version in `optimx`.\n",
    "\n",
    "The optimizers from `nloptr` (i.e. those whose names begin with `NLOPT_LN_`) use the same underlying code as do the similarly named optimizers in the `NLopt` package for __Julia__.  The number of iterations to convergence should be similar for the same underlying code, although not nessarily exactly the same because the evaluation of the objective in __R__ and in __Julia__ may produce slightly different answers.  Also the convergence criteria in the __Julia__ version are more strict than those in the __R__ version\n",
    "\n",
    "Also shown are the value of the criterion (negative twice the log-likelihood, lower is better) achieved, the elapsed time and the number of function and gradient evaluations.  The `nopt` value is the number of parameters in the optimization problem.  `mtype` is the model type in the __Julia__ code.  There are special methods for solving the penalized least squares (PLS) problem, and for evaluating the\n",
    "\n",
    " objective and its gradient when there is only one grouping factor for the random effects\n",
    "\n",
    "The `Alfalfa` example is a particularly easy one and all of the optimizerws converge to an objective value close to -10.81023 in less than 0.6 seconds.\n",
    "\n",
    "### Tabulating results\n",
    "\n",
    "For the `Alfalfa` data there is not much of a burden in refitting the model with all the __Julia__ optimizers just to get the table shown above.  But other examples can take an hour or more to converge and we don't really need to refit them every time.  The `tabulate.jl` file contains a function `optdir` to create a `DataFrame` from the results of all the model fits."
   ]
  },
  {
   "cell_type": "code",
   "execution_count": 22,
   "metadata": {
    "collapsed": false
   },
   "outputs": [
    {
     "data": {
      "text/html": [
       "<table class=\"data-frame\"><tr><th></th><th>opt</th><th>dsname</th><th>n</th><th>np</th><th>times</th><th>devs</th></tr><tr><th>1</th><td>LD_CCSAQ</td><td>Alfalfa</td><td>72</td><td>1</td><td>0.001</td><td>-10.81</td></tr><tr><th>2</th><td>LD_CCSAQ</td><td>AvgDailyGain</td><td>32</td><td>1</td><td>0.001</td><td>9.971</td></tr><tr><th>3</th><td>LD_CCSAQ</td><td>AvgDailyGain</td><td>32</td><td>1</td><td>0.001</td><td>13.617</td></tr><tr><th>4</th><td>LD_CCSAQ</td><td>BIB</td><td>24</td><td>1</td><td>0.001</td><td>92.991</td></tr><tr><th>5</th><td>LD_CCSAQ</td><td>Bond</td><td>21</td><td>1</td><td>0.001</td><td>115.707</td></tr><tr><th>6</th><td>LD_CCSAQ</td><td>bs10</td><td>1104</td><td>20</td><td>1.138</td><td>1030.955</td></tr><tr><th>7</th><td>LD_CCSAQ</td><td>bs10</td><td>1104</td><td>8</td><td>0.041</td><td>1120.075</td></tr><tr><th>8</th><td>LD_CCSAQ</td><td>cake</td><td>270</td><td>1</td><td>0.003</td><td>1679.052</td></tr><tr><th>9</th><td>LD_CCSAQ</td><td>Cultivation</td><td>24</td><td>1</td><td>0.001</td><td>73.322</td></tr><tr><th>10</th><td>LD_CCSAQ</td><td>Demand</td><td>77</td><td>2</td><td>0.008</td><td>-257.409</td></tr><tr><th>11</th><td>LD_CCSAQ</td><td>dialectNL</td><td>225866</td><td>6</td><td>6.99</td><td>395168.837</td></tr><tr><th>12</th><td>LD_CCSAQ</td><td>Dyestuff2</td><td>30</td><td>1</td><td>0.001</td><td>162.873</td></tr><tr><th>13</th><td>LD_CCSAQ</td><td>Dyestuff</td><td>30</td><td>1</td><td>0.001</td><td>327.327</td></tr><tr><th>14</th><td>LD_CCSAQ</td><td>ergoStool</td><td>36</td><td>1</td><td>0.002</td><td>122.144</td></tr><tr><th>15</th><td>LD_CCSAQ</td><td>Exam</td><td>4059</td><td>1</td><td>0.018</td><td>9325.427</td></tr><tr><th>16</th><td>LD_CCSAQ</td><td>Exam</td><td>4059</td><td>1</td><td>0.018</td><td>9325.385</td></tr><tr><th>17</th><td>LD_CCSAQ</td><td>Gasoline</td><td>32</td><td>1</td><td>0.001</td><td>170.663</td></tr><tr><th>18</th><td>LD_CCSAQ</td><td>gb12</td><td>512</td><td>20</td><td>5.532</td><td>7926.675</td></tr><tr><th>19</th><td>LD_CCSAQ</td><td>gb12</td><td>512</td><td>8</td><td>0.093</td><td>8080.546</td></tr><tr><th>20</th><td>LD_CCSAQ</td><td>HR</td><td>120</td><td>3</td><td>0.009</td><td>787.754</td></tr><tr><th>21</th><td>LD_CCSAQ</td><td>Hsb82</td><td>7185</td><td>1</td><td>0.011</td><td>46524.162</td></tr><tr><th>22</th><td>LD_CCSAQ</td><td>IncBlk</td><td>24</td><td>1</td><td>0.001</td><td>73.322</td></tr><tr><th>23</th><td>LD_CCSAQ</td><td>kb07</td><td>1790</td><td>72</td><td>22.732</td><td>28594.525</td></tr><tr><th>24</th><td>LD_CCSAQ</td><td>kb07</td><td>1790</td><td>16</td><td>0.215</td><td>29291.341</td></tr><tr><th>25</th><td>LD_CCSAQ</td><td>Mississippi</td><td>37</td><td>1</td><td>0.001</td><td>247.508</td></tr><tr><th>26</th><td>LD_CCSAQ</td><td>mm0</td><td>69588</td><td>6</td><td>5.786</td><td>395168.837</td></tr><tr><th>27</th><td>LD_CCSAQ</td><td>Multilocation</td><td>24</td><td>1</td><td>0.001</td><td>73.322</td></tr><tr><th>28</th><td>LD_CCSAQ</td><td>Oxboys</td><td>234</td><td>3</td><td>0.019</td><td>862.755</td></tr><tr><th>29</th><td>LD_CCSAQ</td><td>PBIB</td><td>24</td><td>1</td><td>0.001</td><td>73.322</td></tr><tr><th>30</th><td>LD_CCSAQ</td><td>Penicillin</td><td>144</td><td>2</td><td>0.028</td><td>332.188</td></tr><tr><th>&vellip;</th><td>&vellip;</td><td>&vellip;</td><td>&vellip;</td><td>&vellip;</td><td>&vellip;</td><td>&vellip;</td></tr></table>"
      ],
      "text/plain": [
       "30x6 DataFrame\n",
       "| Row | opt        | dsname          | n      | np | times  | devs     |\n",
       "|-----|------------|-----------------|--------|----|--------|----------|\n",
       "| 1   | \"LD_CCSAQ\" | \"Alfalfa\"       | 72     | 1  | 0.001  | -10.81   |\n",
       "| 2   | \"LD_CCSAQ\" | \"AvgDailyGain\"  | 32     | 1  | 0.001  | 9.971    |\n",
       "| 3   | \"LD_CCSAQ\" | \"AvgDailyGain\"  | 32     | 1  | 0.001  | 13.617   |\n",
       "| 4   | \"LD_CCSAQ\" | \"BIB\"           | 24     | 1  | 0.001  | 92.991   |\n",
       "| 5   | \"LD_CCSAQ\" | \"Bond\"          | 21     | 1  | 0.001  | 115.707  |\n",
       "| 6   | \"LD_CCSAQ\" | \"bs10\"          | 1104   | 20 | 1.138  | 1030.95  |\n",
       "| 7   | \"LD_CCSAQ\" | \"bs10\"          | 1104   | 8  | 0.041  | 1120.08  |\n",
       "| 8   | \"LD_CCSAQ\" | \"cake\"          | 270    | 1  | 0.003  | 1679.05  |\n",
       "| 9   | \"LD_CCSAQ\" | \"Cultivation\"   | 24     | 1  | 0.001  | 73.322   |\n",
       "| 10  | \"LD_CCSAQ\" | \"Demand\"        | 77     | 2  | 0.008  | -257.409 |\n",
       "| 11  | \"LD_CCSAQ\" | \"dialectNL\"     | 225866 | 6  | 6.99   | 395169.0 |\n",
       "⋮\n",
       "| 19  | \"LD_CCSAQ\" | \"gb12\"          | 512    | 8  | 0.093  | 8080.55  |\n",
       "| 20  | \"LD_CCSAQ\" | \"HR\"            | 120    | 3  | 0.009  | 787.754  |\n",
       "| 21  | \"LD_CCSAQ\" | \"Hsb82\"         | 7185   | 1  | 0.011  | 46524.2  |\n",
       "| 22  | \"LD_CCSAQ\" | \"IncBlk\"        | 24     | 1  | 0.001  | 73.322   |\n",
       "| 23  | \"LD_CCSAQ\" | \"kb07\"          | 1790   | 72 | 22.732 | 28594.5  |\n",
       "| 24  | \"LD_CCSAQ\" | \"kb07\"          | 1790   | 16 | 0.215  | 29291.3  |\n",
       "| 25  | \"LD_CCSAQ\" | \"Mississippi\"   | 37     | 1  | 0.001  | 247.508  |\n",
       "| 26  | \"LD_CCSAQ\" | \"mm0\"           | 69588  | 6  | 5.786  | 395169.0 |\n",
       "| 27  | \"LD_CCSAQ\" | \"Multilocation\" | 24     | 1  | 0.001  | 73.322   |\n",
       "| 28  | \"LD_CCSAQ\" | \"Oxboys\"        | 234    | 3  | 0.019  | 862.755  |\n",
       "| 29  | \"LD_CCSAQ\" | \"PBIB\"          | 24     | 1  | 0.001  | 73.322   |\n",
       "| 30  | \"LD_CCSAQ\" | \"Penicillin\"    | 144    | 2  | 0.028  | 332.188  |"
      ]
     },
     "execution_count": 22,
     "metadata": {},
     "output_type": "execute_result"
    }
   ],
   "source": [
    "include(\"../julia/tabulate.jl\")\n",
    "res = optdir(\"../JSON\");\n",
    "res[1:30,[1,2,3,6,8,9]]"
   ]
  },
  {
   "cell_type": "code",
   "execution_count": 23,
   "metadata": {
    "collapsed": false
   },
   "outputs": [
    {
     "data": {
      "text/html": [
       "<table class=\"data-frame\"><tr><th></th><th>opt</th><th>dsname</th><th>n</th><th>np</th><th>times</th><th>devs</th></tr><tr><th>1</th><td>NLOPT_LN_BOBYQA</td><td>Alfalfa</td><td>72</td><td>1</td><td>0.042</td><td>-10.81</td></tr><tr><th>2</th><td>NLOPT_LN_BOBYQA</td><td>Animal</td><td>20</td><td>2</td><td>0.023</td><td>6.478</td></tr><tr><th>3</th><td>NLOPT_LN_BOBYQA</td><td>Assay</td><td>60</td><td>2</td><td>0.032</td><td>-240.389</td></tr><tr><th>4</th><td>NLOPT_LN_BOBYQA</td><td>AvgDailyGain</td><td>32</td><td>1</td><td>0.02</td><td>9.971</td></tr><tr><th>5</th><td>NLOPT_LN_BOBYQA</td><td>AvgDailyGain</td><td>32</td><td>1</td><td>0.02</td><td>13.617</td></tr><tr><th>6</th><td>NLOPT_LN_BOBYQA</td><td>BIB</td><td>24</td><td>1</td><td>0.02</td><td>92.991</td></tr><tr><th>7</th><td>NLOPT_LN_BOBYQA</td><td>Bond</td><td>21</td><td>1</td><td>0.02</td><td>115.707</td></tr><tr><th>8</th><td>NLOPT_LN_BOBYQA</td><td>bs10</td><td>1104</td><td>20</td><td>4.645</td><td>1030.955</td></tr><tr><th>9</th><td>NLOPT_LN_BOBYQA</td><td>bs10</td><td>1104</td><td>8</td><td>1.088</td><td>1080.081</td></tr><tr><th>10</th><td>NLOPT_LN_BOBYQA</td><td>cake</td><td>270</td><td>1</td><td>0.053</td><td>1679.052</td></tr><tr><th>11</th><td>NLOPT_LN_BOBYQA</td><td>Chem97</td><td>31022</td><td>2</td><td>0.632</td><td>157869.926</td></tr><tr><th>12</th><td>NLOPT_LN_BOBYQA</td><td>Chem97</td><td>31022</td><td>2</td><td>0.556</td><td>141685.56</td></tr><tr><th>13</th><td>NLOPT_LN_BOBYQA</td><td>Cultivation</td><td>24</td><td>1</td><td>0.02</td><td>73.322</td></tr><tr><th>14</th><td>NLOPT_LN_BOBYQA</td><td>d3</td><td>130418</td><td>9</td><td>224.972</td><td>884957.554</td></tr><tr><th>15</th><td>NLOPT_LN_BOBYQA</td><td>Demand</td><td>77</td><td>2</td><td>0.026</td><td>-260.628</td></tr><tr><th>16</th><td>NLOPT_LN_BOBYQA</td><td>dialectNL</td><td>225866</td><td>6</td><td>16.881</td><td>395168.837</td></tr><tr><th>17</th><td>NLOPT_LN_BOBYQA</td><td>Dyestuff2</td><td>30</td><td>1</td><td>0.046</td><td>162.873</td></tr><tr><th>18</th><td>NLOPT_LN_BOBYQA</td><td>Dyestuff</td><td>30</td><td>1</td><td>0.02</td><td>327.327</td></tr><tr><th>19</th><td>NLOPT_LN_BOBYQA</td><td>egsingle</td><td>7230</td><td>2</td><td>0.172</td><td>16732.497</td></tr><tr><th>20</th><td>NLOPT_LN_BOBYQA</td><td>ergoStool</td><td>36</td><td>1</td><td>0.019</td><td>122.144</td></tr><tr><th>21</th><td>NLOPT_LN_BOBYQA</td><td>Exam</td><td>4059</td><td>1</td><td>0.048</td><td>9325.427</td></tr><tr><th>22</th><td>NLOPT_LN_BOBYQA</td><td>Exam</td><td>4059</td><td>1</td><td>0.051</td><td>9325.385</td></tr><tr><th>23</th><td>NLOPT_LN_BOBYQA</td><td>Gasoline</td><td>32</td><td>1</td><td>0.019</td><td>170.663</td></tr><tr><th>24</th><td>NLOPT_LN_BOBYQA</td><td>gb12</td><td>512</td><td>20</td><td>1.869</td><td>7926.675</td></tr><tr><th>25</th><td>NLOPT_LN_BOBYQA</td><td>gb12</td><td>512</td><td>8</td><td>0.419</td><td>7977.37</td></tr><tr><th>26</th><td>NLOPT_LN_BOBYQA</td><td>Genetics</td><td>60</td><td>2</td><td>0.026</td><td>478.405</td></tr><tr><th>27</th><td>NLOPT_LN_BOBYQA</td><td>HR</td><td>120</td><td>3</td><td>0.024</td><td>787.754</td></tr><tr><th>28</th><td>NLOPT_LN_BOBYQA</td><td>Hsb82</td><td>7185</td><td>1</td><td>0.073</td><td>46331.432</td></tr><tr><th>29</th><td>NLOPT_LN_BOBYQA</td><td>IncBlk</td><td>24</td><td>1</td><td>0.021</td><td>73.322</td></tr><tr><th>30</th><td>NLOPT_LN_BOBYQA</td><td>InstEval</td><td>73421</td><td>2</td><td>8.716</td><td>237585.553</td></tr><tr><th>&vellip;</th><td>&vellip;</td><td>&vellip;</td><td>&vellip;</td><td>&vellip;</td><td>&vellip;</td><td>&vellip;</td></tr></table>"
      ],
      "text/plain": [
       "50x6 DataFrame\n",
       "| Row | opt               | dsname          | n      | np | times | devs     |\n",
       "|-----|-------------------|-----------------|--------|----|-------|----------|\n",
       "| 1   | \"NLOPT_LN_BOBYQA\" | \"Alfalfa\"       | 72     | 1  | 0.042 | -10.81   |\n",
       "| 2   | \"NLOPT_LN_BOBYQA\" | \"Animal\"        | 20     | 2  | 0.023 | 6.478    |\n",
       "| 3   | \"NLOPT_LN_BOBYQA\" | \"Assay\"         | 60     | 2  | 0.032 | -240.389 |\n",
       "| 4   | \"NLOPT_LN_BOBYQA\" | \"AvgDailyGain\"  | 32     | 1  | 0.02  | 9.971    |\n",
       "| 5   | \"NLOPT_LN_BOBYQA\" | \"AvgDailyGain\"  | 32     | 1  | 0.02  | 13.617   |\n",
       "| 6   | \"NLOPT_LN_BOBYQA\" | \"BIB\"           | 24     | 1  | 0.02  | 92.991   |\n",
       "| 7   | \"NLOPT_LN_BOBYQA\" | \"Bond\"          | 21     | 1  | 0.02  | 115.707  |\n",
       "| 8   | \"NLOPT_LN_BOBYQA\" | \"bs10\"          | 1104   | 20 | 4.645 | 1030.95  |\n",
       "| 9   | \"NLOPT_LN_BOBYQA\" | \"bs10\"          | 1104   | 8  | 1.088 | 1080.08  |\n",
       "| 10  | \"NLOPT_LN_BOBYQA\" | \"cake\"          | 270    | 1  | 0.053 | 1679.05  |\n",
       "| 11  | \"NLOPT_LN_BOBYQA\" | \"Chem97\"        | 31022  | 2  | 0.632 | 157870.0 |\n",
       "⋮\n",
       "| 39  | \"NLOPT_LN_BOBYQA\" | \"PBIB\"          | 24     | 1  | 0.021 | 73.322   |\n",
       "| 40  | \"NLOPT_LN_BOBYQA\" | \"Penicillin\"    | 144    | 2  | 0.027 | 332.188  |\n",
       "| 41  | \"NLOPT_LN_BOBYQA\" | \"Poems\"         | 275996 | 3  | 17.7  | 174758.0 |\n",
       "| 42  | \"NLOPT_LN_BOBYQA\" | \"ScotsSec\"      | 3435   | 2  | 0.078 | 14773.2  |\n",
       "| 43  | \"NLOPT_LN_BOBYQA\" | \"Semi2\"         | 24     | 1  | 0.021 | 73.322   |\n",
       "| 44  | \"NLOPT_LN_BOBYQA\" | \"Semiconductor\" | 24     | 1  | 0.021 | 73.322   |\n",
       "| 45  | \"NLOPT_LN_BOBYQA\" | \"SIMS\"          | 24     | 1  | 0.021 | 73.322   |\n",
       "| 46  | \"NLOPT_LN_BOBYQA\" | \"sleepstudy\"    | 180    | 3  | 0.049 | 1751.94  |\n",
       "| 47  | \"NLOPT_LN_BOBYQA\" | \"sleepstudy\"    | 180    | 2  | 0.052 | 1752.0   |\n",
       "| 48  | \"NLOPT_LN_BOBYQA\" | \"TeachingII\"    | 24     | 1  | 0.021 | 73.322   |\n",
       "| 49  | \"NLOPT_LN_BOBYQA\" | \"Weights\"       | 24     | 1  | 0.021 | 73.322   |\n",
       "| 50  | \"NLOPT_LN_BOBYQA\" | \"WWheat\"        | 24     | 1  | 0.021 | 73.322   |"
      ]
     },
     "execution_count": 23,
     "metadata": {},
     "output_type": "execute_result"
    }
   ],
   "source": [
    "res[res[:opt] .== \"NLOPT_LN_BOBYQA\",[1,2,3,6,8,9]]"
   ]
  },
  {
   "cell_type": "markdown",
   "metadata": {},
   "source": [
    "## Proportion converged\n",
    "\n",
    "The most important question regarding the optimizers is whether or not they have converged to the global optimum.  We cannot test this directly.  Instead we use a \"crowd-sourced\" criterion and evaluate the difference of the objective achieved by a particular algorithm and the minimum.  This is called the excess."
   ]
  },
  {
   "cell_type": "code",
   "execution_count": 24,
   "metadata": {
    "collapsed": false
   },
   "outputs": [
    {
     "data": {
      "text/html": [
       "<table class=\"data-frame\"><tr><th></th><th>opt</th><th>dsname</th><th>excess</th></tr><tr><th>1</th><td>NLOPT_LN_BOBYQA</td><td>Alfalfa</td><td>4.1099568193203595e-11</td></tr><tr><th>2</th><td>NLOPT_LN_BOBYQA</td><td>Animal</td><td>9.302909553809968e-9</td></tr><tr><th>3</th><td>NLOPT_LN_BOBYQA</td><td>Assay</td><td>7.924335989173414e-6</td></tr><tr><th>4</th><td>NLOPT_LN_BOBYQA</td><td>AvgDailyGain</td><td>2.6911806116913795e-12</td></tr><tr><th>5</th><td>NLOPT_LN_BOBYQA</td><td>AvgDailyGain</td><td>0.0</td></tr><tr><th>6</th><td>NLOPT_LN_BOBYQA</td><td>BIB</td><td>8.27316029017311e-8</td></tr><tr><th>7</th><td>NLOPT_LN_BOBYQA</td><td>Bond</td><td>0.0</td></tr><tr><th>8</th><td>NLOPT_LN_BOBYQA</td><td>bs10</td><td>7.629679885212681e-6</td></tr><tr><th>9</th><td>NLOPT_LN_BOBYQA</td><td>bs10</td><td>3.4064009923895355e-7</td></tr><tr><th>10</th><td>NLOPT_LN_BOBYQA</td><td>cake</td><td>7.999005902092904e-10</td></tr><tr><th>11</th><td>NLOPT_LN_BOBYQA</td><td>Chem97</td><td>0.0</td></tr><tr><th>12</th><td>NLOPT_LN_BOBYQA</td><td>Chem97</td><td>2.0081643015146255e-9</td></tr><tr><th>13</th><td>NLOPT_LN_BOBYQA</td><td>Cultivation</td><td>0.0</td></tr><tr><th>14</th><td>NLOPT_LN_BOBYQA</td><td>d3</td><td>7.05070560798049e-5</td></tr><tr><th>15</th><td>NLOPT_LN_BOBYQA</td><td>Demand</td><td>7.680114322283771e-10</td></tr><tr><th>16</th><td>NLOPT_LN_BOBYQA</td><td>dialectNL</td><td>6.216543260961771e-5</td></tr><tr><th>17</th><td>NLOPT_LN_BOBYQA</td><td>Dyestuff2</td><td>0.0</td></tr><tr><th>18</th><td>NLOPT_LN_BOBYQA</td><td>Dyestuff</td><td>1.9895196601282805e-12</td></tr><tr><th>19</th><td>NLOPT_LN_BOBYQA</td><td>egsingle</td><td>3.1650415621697903e-10</td></tr><tr><th>20</th><td>NLOPT_LN_BOBYQA</td><td>ergoStool</td><td>8.699885256646667e-11</td></tr><tr><th>21</th><td>NLOPT_LN_BOBYQA</td><td>Exam</td><td>5.093170329928398e-10</td></tr><tr><th>22</th><td>NLOPT_LN_BOBYQA</td><td>Exam</td><td>5.493347998708487e-10</td></tr><tr><th>23</th><td>NLOPT_LN_BOBYQA</td><td>Gasoline</td><td>1.5006662579253316e-11</td></tr><tr><th>24</th><td>NLOPT_LN_BOBYQA</td><td>gb12</td><td>1.1487079973449e-5</td></tr><tr><th>25</th><td>NLOPT_LN_BOBYQA</td><td>gb12</td><td>1.6789759683888406e-5</td></tr><tr><th>26</th><td>NLOPT_LN_BOBYQA</td><td>Genetics</td><td>2.616161509649828e-9</td></tr><tr><th>27</th><td>NLOPT_LN_BOBYQA</td><td>HR</td><td>5.8910245570586994e-9</td></tr><tr><th>28</th><td>NLOPT_LN_BOBYQA</td><td>Hsb82</td><td>0.0</td></tr><tr><th>29</th><td>NLOPT_LN_BOBYQA</td><td>IncBlk</td><td>1.4210854715202004e-14</td></tr><tr><th>30</th><td>NLOPT_LN_BOBYQA</td><td>InstEval</td><td>9.89530235528946e-10</td></tr><tr><th>&vellip;</th><td>&vellip;</td><td>&vellip;</td><td>&vellip;</td></tr></table>"
      ],
      "text/plain": [
       "50x3 DataFrame\n",
       "| Row | opt               | dsname          | excess      |\n",
       "|-----|-------------------|-----------------|-------------|\n",
       "| 1   | \"NLOPT_LN_BOBYQA\" | \"Alfalfa\"       | 4.10996e-11 |\n",
       "| 2   | \"NLOPT_LN_BOBYQA\" | \"Animal\"        | 9.30291e-9  |\n",
       "| 3   | \"NLOPT_LN_BOBYQA\" | \"Assay\"         | 7.92434e-6  |\n",
       "| 4   | \"NLOPT_LN_BOBYQA\" | \"AvgDailyGain\"  | 2.69118e-12 |\n",
       "| 5   | \"NLOPT_LN_BOBYQA\" | \"AvgDailyGain\"  | 0.0         |\n",
       "| 6   | \"NLOPT_LN_BOBYQA\" | \"BIB\"           | 8.27316e-8  |\n",
       "| 7   | \"NLOPT_LN_BOBYQA\" | \"Bond\"          | 0.0         |\n",
       "| 8   | \"NLOPT_LN_BOBYQA\" | \"bs10\"          | 7.62968e-6  |\n",
       "| 9   | \"NLOPT_LN_BOBYQA\" | \"bs10\"          | 3.4064e-7   |\n",
       "| 10  | \"NLOPT_LN_BOBYQA\" | \"cake\"          | 7.99901e-10 |\n",
       "| 11  | \"NLOPT_LN_BOBYQA\" | \"Chem97\"        | 0.0         |\n",
       "⋮\n",
       "| 39  | \"NLOPT_LN_BOBYQA\" | \"PBIB\"          | 1.42109e-14 |\n",
       "| 40  | \"NLOPT_LN_BOBYQA\" | \"Penicillin\"    | 4.48777e-6  |\n",
       "| 41  | \"NLOPT_LN_BOBYQA\" | \"Poems\"         | 3.4098e-7   |\n",
       "| 42  | \"NLOPT_LN_BOBYQA\" | \"ScotsSec\"      | 2.2502e-6   |\n",
       "| 43  | \"NLOPT_LN_BOBYQA\" | \"Semi2\"         | 1.42109e-14 |\n",
       "| 44  | \"NLOPT_LN_BOBYQA\" | \"Semiconductor\" | 1.42109e-14 |\n",
       "| 45  | \"NLOPT_LN_BOBYQA\" | \"SIMS\"          | 1.42109e-14 |\n",
       "| 46  | \"NLOPT_LN_BOBYQA\" | \"sleepstudy\"    | 2.57899e-8  |\n",
       "| 47  | \"NLOPT_LN_BOBYQA\" | \"sleepstudy\"    | 1.3474e-7   |\n",
       "| 48  | \"NLOPT_LN_BOBYQA\" | \"TeachingII\"    | 1.42109e-14 |\n",
       "| 49  | \"NLOPT_LN_BOBYQA\" | \"Weights\"       | 1.42109e-14 |\n",
       "| 50  | \"NLOPT_LN_BOBYQA\" | \"WWheat\"        | 1.42109e-14 |"
      ]
     },
     "execution_count": 24,
     "metadata": {},
     "output_type": "execute_result"
    }
   ],
   "source": [
    "res[res[:opt] .== \"NLOPT_LN_BOBYQA\",[:opt,:dsname,:excess]]"
   ]
  }
 ],
 "metadata": {
  "kernelspec": {
   "display_name": "Julia 0.3.10",
   "language": "julia",
   "name": "julia-0.3"
  },
  "language_info": {
   "name": "julia",
   "version": "0.3.10"
  }
 },
 "nbformat": 4,
 "nbformat_minor": 0
}
